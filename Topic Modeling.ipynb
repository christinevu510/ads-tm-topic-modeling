{
 "cells": [
  {
   "cell_type": "markdown",
   "id": "bce2bb89",
   "metadata": {},
   "source": [
    "# ADS 509 Assignment 5.1: Topic Modeling\n",
    "\n",
    "This notebook holds Assignment 5.1 for Module 5 in ADS 509, Applied Text Mining. Work through this notebook, writing code and answering questions where required. \n",
    "\n",
    "In this assignment you will work with a categorical corpus that accompanies `nltk`. You will build the three types of topic models described in Chapter 8 of _Blueprints for Text Analytics using Python_: NMF, LSA, and LDA. You will compare these models to the true categories. \n"
   ]
  },
  {
   "cell_type": "code",
   "execution_count": 1,
   "id": "a85bce08",
   "metadata": {},
   "outputs": [
    {
     "name": "stderr",
     "output_type": "stream",
     "text": [
      "C:\\Users\\Chris\\AppData\\Local\\Packages\\PythonSoftwareFoundation.Python.3.10_qbz5n2kfra8p0\\LocalCache\\local-packages\\Python310\\site-packages\\tqdm\\auto.py:21: TqdmWarning: IProgress not found. Please update jupyter and ipywidgets. See https://ipywidgets.readthedocs.io/en/stable/user_install.html\n",
      "  from .autonotebook import tqdm as notebook_tqdm\n"
     ]
    }
   ],
   "source": [
    "import nltk\n",
    "from nltk.corpus import brown\n",
    "\n",
    "import numpy as np\n",
    "import pandas as pd\n",
    "from tqdm.auto import tqdm\n",
    "\n",
    "import pyLDAvis\n",
    "import pyLDAvis.lda_model\n",
    "import pyLDAvis.gensim_models\n",
    "\n",
    "import spacy\n",
    "from sklearn.feature_extraction.text import TfidfVectorizer, CountVectorizer\n",
    "from sklearn.decomposition import NMF, TruncatedSVD, LatentDirichletAllocation\n",
    "\n",
    "from spacy.lang.en.stop_words import STOP_WORDS as stopwords\n",
    "\n",
    "from collections import Counter, defaultdict\n",
    "\n",
    "import en_core_web_sm\n",
    "nlp = en_core_web_sm.load"
   ]
  },
  {
   "cell_type": "code",
   "execution_count": 2,
   "id": "494de237",
   "metadata": {},
   "outputs": [],
   "source": [
    "# This function comes from the BTAP repo.\n",
    "\n",
    "def display_topics(model, features, no_top_words=5):\n",
    "    for topic, words in enumerate(model.components_):\n",
    "        total = words.sum()\n",
    "        largest = words.argsort()[::-1] # invert sort order\n",
    "        print(\"\\nTopic %02d\" % topic)\n",
    "        for i in range(0, no_top_words):\n",
    "            print(\"  %s (%2.2f)\" % (features[largest[i]], abs(words[largest[i]]*100.0/total)))"
   ]
  },
  {
   "cell_type": "markdown",
   "id": "a30a901c",
   "metadata": {},
   "source": [
    "## Getting to Know the Brown Corpus\n",
    "\n",
    "Let's spend a bit of time getting to know what's in the Brown corpus, our NLTK example of an \"overlapping\" corpus."
   ]
  },
  {
   "cell_type": "code",
   "execution_count": 3,
   "id": "457c59ed",
   "metadata": {},
   "outputs": [
    {
     "name": "stdout",
     "output_type": "stream",
     "text": [
      "For adventure we have 29 articles.\n",
      "For belles_lettres we have 75 articles.\n",
      "For editorial we have 27 articles.\n",
      "For fiction we have 29 articles.\n",
      "For government we have 30 articles.\n",
      "For hobbies we have 36 articles.\n",
      "For humor we have 9 articles.\n",
      "For learned we have 80 articles.\n",
      "For lore we have 48 articles.\n",
      "For mystery we have 24 articles.\n",
      "For news we have 44 articles.\n",
      "For religion we have 17 articles.\n",
      "For reviews we have 17 articles.\n",
      "For romance we have 29 articles.\n",
      "For science_fiction we have 6 articles.\n"
     ]
    }
   ],
   "source": [
    "# categories of articles in Brown corpus\n",
    "for category in brown.categories() :\n",
    "    print(f\"For {category} we have {len(brown.fileids(categories=category))} articles.\")"
   ]
  },
  {
   "cell_type": "markdown",
   "id": "23fb133c",
   "metadata": {},
   "source": [
    "Let's create a dataframe of the articles in of hobbies, editorial, government, news, and romance."
   ]
  },
  {
   "cell_type": "code",
   "execution_count": 4,
   "id": "18f50b9d",
   "metadata": {},
   "outputs": [
    {
     "data": {
      "text/plain": [
       "(166, 3)"
      ]
     },
     "execution_count": 4,
     "metadata": {},
     "output_type": "execute_result"
    }
   ],
   "source": [
    "categories = ['editorial','government','news','romance','hobbies'] \n",
    "\n",
    "category_list = []\n",
    "file_ids = []\n",
    "texts = []\n",
    "\n",
    "for category in categories : \n",
    "    for file_id in brown.fileids(categories=category) :\n",
    "        \n",
    "        # build some lists for a dataframe\n",
    "        category_list.append(category)\n",
    "        file_ids.append(file_id)\n",
    "        \n",
    "        text = brown.words(fileids=file_id)\n",
    "        texts.append(\" \".join(text))\n",
    "\n",
    "        \n",
    "        \n",
    "df = pd.DataFrame()\n",
    "df['category'] = category_list\n",
    "df['id'] = file_ids\n",
    "df['text'] = texts \n",
    "\n",
    "df.shape"
   ]
  },
  {
   "cell_type": "code",
   "execution_count": 5,
   "id": "586f47de",
   "metadata": {},
   "outputs": [],
   "source": [
    "# Let's add some helpful columns on the df\n",
    "df['char_len'] = df['text'].apply(len)\n",
    "df['word_len'] = df['text'].apply(lambda x: len(x.split()))\n"
   ]
  },
  {
   "cell_type": "code",
   "execution_count": 6,
   "id": "2128fd2d",
   "metadata": {},
   "outputs": [
    {
     "data": {
      "text/plain": [
       "<AxesSubplot: xlabel='category'>"
      ]
     },
     "execution_count": 6,
     "metadata": {},
     "output_type": "execute_result"
    },
    {
     "data": {
      "image/png": "[encoded data removed]",
      "text/plain": [
       "<Figure size 1000x600 with 1 Axes>"
      ]
     },
     "metadata": {},
     "output_type": "display_data"
    }
   ],
   "source": [
    "%matplotlib inline\n",
    "df.groupby('category').agg({'word_len': 'mean'}).plot.bar(figsize=(10,6))"
   ]
  },
  {
   "cell_type": "markdown",
   "id": "554ffeb5",
   "metadata": {},
   "source": [
    "Now do our TF-IDF and Count vectorizations."
   ]
  },
  {
   "cell_type": "code",
   "execution_count": 7,
   "id": "21a7d247",
   "metadata": {},
   "outputs": [
    {
     "name": "stderr",
     "output_type": "stream",
     "text": [
      "C:\\Users\\Chris\\AppData\\Local\\Packages\\PythonSoftwareFoundation.Python.3.10_qbz5n2kfra8p0\\LocalCache\\local-packages\\Python310\\site-packages\\sklearn\\feature_extraction\\text.py:408: UserWarning: Your stop_words may be inconsistent with your preprocessing. Tokenizing the stop words generated tokens ['ll', 've'] not in stop_words.\n",
      "  warnings.warn(\n"
     ]
    },
    {
     "data": {
      "text/plain": [
       "(166, 4941)"
      ]
     },
     "execution_count": 7,
     "metadata": {},
     "output_type": "execute_result"
    }
   ],
   "source": [
    "count_text_vectorizer = CountVectorizer(stop_words=list(stopwords), min_df=5, max_df=0.7)\n",
    "count_text_vectors = count_text_vectorizer.fit_transform(df[\"text\"])\n",
    "count_text_vectors.shape"
   ]
  },
  {
   "cell_type": "code",
   "execution_count": 8,
   "id": "875deba9",
   "metadata": {},
   "outputs": [
    {
     "data": {
      "text/plain": [
       "(166, 4941)"
      ]
     },
     "execution_count": 8,
     "metadata": {},
     "output_type": "execute_result"
    }
   ],
   "source": [
    "tfidf_text_vectorizer = TfidfVectorizer(stop_words=list(stopwords), min_df=5, max_df=0.7)\n",
    "tfidf_text_vectors = tfidf_text_vectorizer.fit_transform(df['text'])\n",
    "tfidf_text_vectors.shape"
   ]
  },
  {
   "attachments": {},
   "cell_type": "markdown",
   "id": "a1062b21",
   "metadata": {},
   "source": [
    "Q: What do the two data frames `count_text_vectors` and `tfidf_text_vectors` hold? \n",
    "\n",
    "A: The `count_text_vectors` data frame contains the frequency of occurrence of a word in the corpus. The columns represent words found in the corpus, while the rows represent documents within the corpus. The `tfidf_text_vectors` data frame holds both the frequency and the importance of the words in the corpus. The columns represent unique words in the corpus, while the rows represent the documents."
   ]
  },
  {
   "cell_type": "markdown",
   "id": "f77c3f94",
   "metadata": {},
   "source": [
    "## Fitting a Non-Negative Matrix Factorization Model\n",
    "\n",
    "In this section the code to fit a five-topic NMF model has already been written. This code comes directly from the [BTAP repo](https://github.com/blueprints-for-text-analytics-python/blueprints-text), which will help you tremendously in the coming sections. "
   ]
  },
  {
   "cell_type": "code",
   "execution_count": 9,
   "id": "d28745a3",
   "metadata": {},
   "outputs": [],
   "source": [
    "nmf_text_model = NMF(n_components=5, random_state=314)\n",
    "W_text_matrix = nmf_text_model.fit_transform(tfidf_text_vectors)\n",
    "H_text_matrix = nmf_text_model.components_"
   ]
  },
  {
   "cell_type": "code",
   "execution_count": 10,
   "id": "a67185e7",
   "metadata": {},
   "outputs": [
    {
     "name": "stdout",
     "output_type": "stream",
     "text": [
      "\n",
      "Topic 00\n",
      "  mr (0.51)\n",
      "  president (0.45)\n",
      "  kennedy (0.43)\n",
      "  united (0.42)\n",
      "  khrushchev (0.40)\n",
      "\n",
      "Topic 01\n",
      "  said (0.88)\n",
      "  didn (0.46)\n",
      "  ll (0.45)\n",
      "  thought (0.42)\n",
      "  man (0.37)\n",
      "\n",
      "Topic 02\n",
      "  state (0.39)\n",
      "  development (0.36)\n",
      "  tax (0.33)\n",
      "  sales (0.30)\n",
      "  program (0.25)\n",
      "\n",
      "Topic 03\n",
      "  mrs (2.61)\n",
      "  mr (0.78)\n",
      "  said (0.63)\n",
      "  miss (0.52)\n",
      "  car (0.51)\n",
      "\n",
      "Topic 04\n",
      "  game (1.02)\n",
      "  league (0.74)\n",
      "  ball (0.72)\n",
      "  baseball (0.71)\n",
      "  team (0.66)\n"
     ]
    }
   ],
   "source": [
    "display_topics(nmf_text_model, tfidf_text_vectorizer.get_feature_names_out())"
   ]
  },
  {
   "cell_type": "markdown",
   "id": "fee51e9b",
   "metadata": {},
   "source": [
    "Now some work for you to do. Compare the NMF factorization to the original categories from the Brown Corpus.\n",
    "\n",
    "We are interested in the extent to which our NMF factorization agrees or disagrees with the original categories in the corpus. For each topic in your NMF model, tally the Brown categories and interpret the results. \n"
   ]
  },
  {
   "cell_type": "code",
   "execution_count": 11,
   "id": "7f6dbdc3",
   "metadata": {},
   "outputs": [],
   "source": [
    "# Store categories for each topic\n",
    "nmf_topic_category = defaultdict(list)\n",
    "\n",
    "for idx, row in enumerate(W_text_matrix):\n",
    "    # Find the topic with the highest weight \n",
    "    nmf_topic = np.argmax(row)\n",
    "    \n",
    "    # Get the corresponding category\n",
    "    nmf_category = df[\"category\"].iloc[idx]\n",
    "\n",
    "    # Append the category to the list of categories\n",
    "    nmf_topic_category[nmf_topic].append(nmf_category)"
   ]
  },
  {
   "cell_type": "code",
   "execution_count": 12,
   "id": "23e122ad",
   "metadata": {},
   "outputs": [
    {
     "name": "stdout",
     "output_type": "stream",
     "text": [
      "Topic 0 contains 32 documents\n",
      "Category counts:\n",
      "editorial: 20\n",
      "government: 4\n",
      "news: 8\n",
      "\n",
      "Topic 1 contains 41 documents\n",
      "Category counts:\n",
      "editorial: 4\n",
      "romance: 29\n",
      "hobbies: 8\n",
      "\n",
      "Topic 2 contains 65 documents\n",
      "Category counts:\n",
      "editorial: 2\n",
      "government: 26\n",
      "news: 11\n",
      "hobbies: 26\n",
      "\n",
      "Topic 3 contains 18 documents\n",
      "Category counts:\n",
      "news: 17\n",
      "hobbies: 1\n",
      "\n",
      "Topic 4 contains 10 documents\n",
      "Category counts:\n",
      "editorial: 1\n",
      "news: 8\n",
      "hobbies: 1\n",
      "\n"
     ]
    }
   ],
   "source": [
    "# Sort the topics by topic number\n",
    "sorted_topic_category = dict(sorted(nmf_topic_category.items()))\n",
    "\n",
    "# Print topic category counts\n",
    "for topic, categories in sorted_topic_category.items():\n",
    "    print(f\"Topic {topic} contains {len(categories)} documents\")\n",
    "    print(\"Category counts:\")\n",
    "    for category, count in Counter(categories).items():\n",
    "        print(f\"{category}: {count}\")\n",
    "    print()"
   ]
  },
  {
   "attachments": {},
   "cell_type": "markdown",
   "id": "f8d4e2bc",
   "metadata": {},
   "source": [
    "Q: How does your five-topic NMF model compare to the original Brown categories? \n",
    "\n",
    "A: The NMF model groups documents into broader themes that may not perfectly align with the original Brown corpus categories. The original Brown corpus has 15 distinct categories, each containing a different number of articles, whereas the NMF model has five topics. Topic 0 is predominantly captures editorial content, Topic 1 is primarily romance, Topic 2 consists of government and hobbies mainly, Topic 3 is predominantly composed of news topics with only one exception, and Topic 4 consists mainly of news topics with only two exceptions."
   ]
  },
  {
   "cell_type": "markdown",
   "id": "82e37cb5",
   "metadata": {},
   "source": [
    "## Fitting an LSA Model\n",
    "\n",
    "In this section, follow the example from the repository and fit an LSA model (called a \"TruncatedSVD\" in `sklearn`). Again fit a five-topic model and compare it to the actual categories in the Brown corpus. Use the TF-IDF vectors for your fit, as above. \n",
    "\n",
    "To be explicit, we are once again interested in the extent to which this LSA factorization agrees or disagrees with the original categories in the corpus. For each topic in your model, tally the Brown categories and interpret the results. \n"
   ]
  },
  {
   "cell_type": "code",
   "execution_count": 13,
   "id": "00b53d3d",
   "metadata": {},
   "outputs": [
    {
     "name": "stdout",
     "output_type": "stream",
     "text": [
      "\n",
      "Topic 00\n",
      "  said (0.44)\n",
      "  mr (0.25)\n",
      "  mrs (0.22)\n",
      "  state (0.20)\n",
      "  man (0.17)\n",
      "\n",
      "Topic 01\n",
      "  said (3.89)\n",
      "  ll (2.73)\n",
      "  didn (2.63)\n",
      "  thought (2.20)\n",
      "  got (1.97)\n",
      "\n",
      "Topic 02\n",
      "  mrs (3.14)\n",
      "  mr (1.73)\n",
      "  said (1.05)\n",
      "  kennedy (0.81)\n",
      "  president (0.77)\n",
      "\n",
      "Topic 03\n",
      "  mrs (30.38)\n",
      "  club (6.70)\n",
      "  game (6.40)\n",
      "  jr (5.81)\n",
      "  dallas (5.50)\n",
      "\n",
      "Topic 04\n",
      "  game (4.33)\n",
      "  league (3.09)\n",
      "  baseball (3.06)\n",
      "  ball (2.94)\n",
      "  team (2.81)\n"
     ]
    }
   ],
   "source": [
    "# Create an instance of TruncatedSVD\n",
    "svd_para_model = TruncatedSVD(n_components = 5, random_state = 42)\n",
    "\n",
    "# Fit the model and transform the TF-IDF vectors\n",
    "W_svd_para_matrix = svd_para_model.fit_transform(tfidf_text_vectors)\n",
    "\n",
    "# Get the components of the SVD model\n",
    "H_svd_para_matrix = svd_para_model.components_\n",
    "\n",
    "# Print topic category and their top terms\n",
    "display_topics(svd_para_model, tfidf_text_vectorizer.get_feature_names_out())"
   ]
  },
  {
   "cell_type": "code",
   "execution_count": 14,
   "id": "2d74ee34",
   "metadata": {},
   "outputs": [],
   "source": [
    "# Store categories for each topic\n",
    "lsa_topic_category = defaultdict(list)\n",
    "\n",
    "for idx, row in enumerate(W_svd_para_matrix):\n",
    "\n",
    "    # Find the topic with the highest weight\n",
    "    topic = np.where(row == np.amax(row))[0]\n",
    "\n",
    "    # Get the corresponding category\n",
    "    lsa_category = df[\"category\"].iloc[idx]\n",
    "\n",
    "    # Append the category to the list of categories\n",
    "    lsa_topic_category[topic[0]].append(lsa_category)"
   ]
  },
  {
   "cell_type": "code",
   "execution_count": 15,
   "id": "5a697ce3",
   "metadata": {},
   "outputs": [
    {
     "name": "stdout",
     "output_type": "stream",
     "text": [
      "Topic 0 contains 148 documents\n",
      "Category counts:\n",
      "editorial: 27\n",
      "government: 30\n",
      "news: 34\n",
      "romance: 21\n",
      "hobbies: 36\n",
      "\n",
      "Topic 1 contains 8 documents\n",
      "Category counts:\n",
      "romance: 8\n",
      "\n",
      "Topic 3 contains 3 documents\n",
      "Category counts:\n",
      "news: 3\n",
      "\n",
      "Topic 4 contains 7 documents\n",
      "Category counts:\n",
      "news: 7\n",
      "\n"
     ]
    }
   ],
   "source": [
    "# Sort the topics by topic number\n",
    "sorted_lsa_topic_category = dict(sorted(lsa_topic_category.items()))\n",
    "\n",
    "# Print topic category counts\n",
    "for topic, categories in sorted_lsa_topic_category.items():\n",
    "    print(f\"Topic {topic} contains {len(categories)} documents\")\n",
    "    print(\"Category counts:\")\n",
    "    for category, count in Counter(categories).items():\n",
    "        print(f\"{category}: {count}\")\n",
    "    print()"
   ]
  },
  {
   "attachments": {},
   "cell_type": "markdown",
   "id": "4d94d56f",
   "metadata": {},
   "source": [
    "Q: How does your five-topic LSA model compare to the original Brown categories? \n",
    "\n",
    "A: The LSA model does not align well with the original Brown categories. Topic 0 features a farily even distribution of topics, Topic 1 is entirely romance, and Topics 3 and 4 are entirely news."
   ]
  },
  {
   "cell_type": "code",
   "execution_count": 16,
   "id": "377a886e",
   "metadata": {},
   "outputs": [
    {
     "name": "stdout",
     "output_type": "stream",
     "text": [
      "\n",
      "Topic 00\n",
      "  said (0.44)\n",
      "  mr (0.25)\n",
      "  mrs (0.22)\n",
      "  state (0.20)\n",
      "  man (0.17)\n",
      "\n",
      "Topic 01\n",
      "  said (3.89)\n",
      "  ll (2.73)\n",
      "  didn (2.63)\n",
      "  thought (2.20)\n",
      "  got (1.97)\n",
      "\n",
      "Topic 02\n",
      "  mrs (3.14)\n",
      "  mr (1.73)\n",
      "  said (1.05)\n",
      "  kennedy (0.81)\n",
      "  president (0.77)\n",
      "\n",
      "Topic 03\n",
      "  mrs (30.38)\n",
      "  club (6.70)\n",
      "  game (6.40)\n",
      "  jr (5.81)\n",
      "  dallas (5.50)\n",
      "\n",
      "Topic 04\n",
      "  game (4.33)\n",
      "  league (3.09)\n",
      "  baseball (3.06)\n",
      "  ball (2.94)\n",
      "  team (2.81)\n"
     ]
    }
   ],
   "source": [
    "# call display_topics on your model\n",
    "display_topics(svd_para_model, tfidf_text_vectorizer.get_feature_names_out())"
   ]
  },
  {
   "attachments": {},
   "cell_type": "markdown",
   "id": "ea8b280a",
   "metadata": {},
   "source": [
    "Q: What is your interpretation of the display topics output? \n",
    "\n",
    "A: The display topics illustrate the underlying themes within the Brown corpus. Topic 0 appears to relate to political discussions as it includes terms such as `mr`, `said`, and `state`. Topic 1 is unclear as it includes general terms such as `said`, `thought`, and `got`. Topic 2 appears to be related to political discussions as it includes terms such as `said`, `kennedy`, and `president`. Topic 3 appears to center around activities in Texas as it includes terms such as `club`, `game`, and `dallas`. Topic 4 appears to cover sports as it includes terms such as `league`, `baseball`, and `ball`."
   ]
  },
  {
   "cell_type": "markdown",
   "id": "b4ab4d29",
   "metadata": {},
   "source": [
    "## Fitting an LDA Model\n",
    "\n",
    "Finally, fit a five-topic LDA model using the count vectors (`count_text_vectors` from above). Display the results using `pyLDAvis.display` and describe what you learn from that visualization. "
   ]
  },
  {
   "cell_type": "code",
   "execution_count": 17,
   "id": "802cb8ff",
   "metadata": {},
   "outputs": [],
   "source": [
    "# Fit your LDA model here\n",
    "lda_para_model = LatentDirichletAllocation(n_components = 5, random_state = 42)\n",
    "W_lda_para_matrix = lda_para_model.fit_transform(count_text_vectors)\n",
    "H_lda_para_matrix = lda_para_model.components_"
   ]
  },
  {
   "cell_type": "code",
   "execution_count": 18,
   "id": "ab18adf5",
   "metadata": {},
   "outputs": [
    {
     "name": "stdout",
     "output_type": "stream",
     "text": [
      "\n",
      "Topic 00\n",
      "  home (0.46)\n",
      "  right (0.35)\n",
      "  game (0.35)\n",
      "  way (0.34)\n",
      "  set (0.34)\n",
      "\n",
      "Topic 01\n",
      "  state (0.89)\n",
      "  development (0.57)\n",
      "  states (0.51)\n",
      "  program (0.46)\n",
      "  use (0.44)\n",
      "\n",
      "Topic 02\n",
      "  said (0.93)\n",
      "  mr (0.73)\n",
      "  president (0.63)\n",
      "  state (0.49)\n",
      "  mrs (0.48)\n",
      "\n",
      "Topic 03\n",
      "  feed (0.90)\n",
      "  general (0.73)\n",
      "  business (0.70)\n",
      "  property (0.69)\n",
      "  shall (0.67)\n",
      "\n",
      "Topic 04\n",
      "  said (1.56)\n",
      "  man (0.62)\n",
      "  little (0.62)\n",
      "  old (0.59)\n",
      "  good (0.53)\n"
     ]
    }
   ],
   "source": [
    "# Call `display_topics` on your fitted model here\n",
    "display_topics(lda_para_model, tfidf_text_vectorizer.get_feature_names_out())"
   ]
  },
  {
   "cell_type": "markdown",
   "id": "f2c67876",
   "metadata": {},
   "source": [
    "Q: What inference do you draw from the displayed topics for your LDA model? \n",
    "\n",
    "A: The LDA model displays a wider range of categories for each topic, spanning editorial, government, news, hobbies, and romance. \n",
    "\n",
    "Q: Repeat the tallying of Brown categories within your topics. How does your five-topic LDA model compare to the original Brown categories? \n",
    "\n",
    "A: The topics dervied from the LDA model are not completely representative of the original Brown categories. Topic 0 primarily consists of hobbies, topic 1 is government and hobbies, topic 2 is primarily news, topic 3 is primarily government, topic 4 is primarily romance with the exception of 3 documents."
   ]
  },
  {
   "cell_type": "code",
   "execution_count": 19,
   "id": "6aae75ca",
   "metadata": {},
   "outputs": [],
   "source": [
    "lda_display = pyLDAvis.lda_model.prepare(lda_para_model, count_text_vectors, count_text_vectorizer, sort_topics = False)"
   ]
  },
  {
   "cell_type": "code",
   "execution_count": 20,
   "id": "2a89fc15",
   "metadata": {},
   "outputs": [
    {
     "data": {
      "text/html": [
       "\n",
       "<link rel=\"stylesheet\" type=\"text/css\" href=\"https://cdn.jsdelivr.net/gh/bmabey/pyLDAvis@3.4.0/pyLDAvis/js/ldavis.v1.0.0.css\">\n",
       "\n",
       "\n",
       "<div id=\"ldavis_el1966826593049402407578962186\" style=\"background-color:white;\"></div>\n",
       "<script type=\"text/javascript\">\n",
       "\n",
       "var ldavis_el1966826593049402407578962186_data = {\"mdsDat\": {\"x\": [-0.0890454910340859, 0.12393644925088718, 0.025500167589226047, 0.15979135455241514, -0.2201824803584424], \"y\": [0.16135617455413823, -0.009252658807313704, -0.04809236794047055, -0.01621239945342218, -0.08779874835293171], \"topics\": [1, 2, 3, 4, 5], \"cluster\": [1, 1, 1, 1, 1], \"Freq\": [17.447275076686925, 24.245910725798296, 32.83123625596095, 7.470347983419012, 18.005229958134827]}, \"tinfo\": {\"Term\": [\"said\", \"government\", \"general\", \"feed\", \"business\", \"united\", \"state\", \"states\", \"shall\", \"property\", \"department\", \"development\", \"act\", \"john\", \"didn\", \"tax\", \"ll\", \"thought\", \"mother\", \"president\", \"little\", \"board\", \"small\", \"local\", \"shelter\", \"don\", \"man\", \"old\", \"kennedy\", \"court\", \"player\", \"baseball\", \"panels\", \"leg\", \"yards\", \"yankees\", \"holes\", \"gallery\", \"vernon\", \"coach\", \"charlie\", \"plastic\", \"hits\", \"ball\", \"pittsburgh\", \"favorite\", \"runs\", \"pitcher\", \"hole\", \"pitching\", \"team\", \"paint\", \"stadium\", \"ruth\", \"willie\", \"bat\", \"homer\", \"amateur\", \"paintings\", \"chest\", \"pieces\", \"games\", \"cooling\", \"drill\", \"roy\", \"clay\", \"game\", \"bob\", \"golf\", \"season\", \"inch\", \"football\", \"playing\", \"hit\", \"frame\", \"piece\", \"league\", \"fig\", \"signs\", \"club\", \"cut\", \"junior\", \"play\", \"green\", \"run\", \"center\", \"home\", \"set\", \"won\", \"right\", \"place\", \"don\", \"second\", \"way\", \"house\", \"ll\", \"good\", \"work\", \"class\", \"mrs\", \"use\", \"left\", \"high\", \"better\", \"best\", \"said\", \"textile\", \"participation\", \"employee\", \"musical\", \"publications\", \"faculty\", \"forests\", \"recreation\", \"inventory\", \"interior\", \"fiscal\", \"producers\", \"imports\", \"creative\", \"designers\", \"maintain\", \"evaluation\", \"academic\", \"depreciation\", \"exceed\", \"coverage\", \"laboratories\", \"curriculum\", \"engineers\", \"expenditures\", \"comprehensive\", \"locations\", \"educated\", \"resources\", \"fishing\", \"rhode\", \"organizations\", \"vehicles\", \"india\", \"development\", \"projects\", \"library\", \"activities\", \"technical\", \"pool\", \"planning\", \"published\", \"import\", \"management\", \"site\", \"island\", \"plant\", \"medical\", \"bridge\", \"state\", \"research\", \"program\", \"industrial\", \"1960\", \"available\", \"corps\", \"system\", \"use\", \"production\", \"states\", \"period\", \"services\", \"important\", \"area\", \"interest\", \"national\", \"united\", \"work\", \"000\", \"service\", \"college\", \"water\", \"company\", \"government\", \"american\", \"business\", \"public\", \"high\", \"kennedy\", \"nuclear\", \"soviet\", \"khrushchev\", \"laos\", \"berlin\", \"congo\", \"republican\", \"moscow\", \"cuba\", \"weapons\", \"senate\", \"castro\", \"sen\", \"charter\", \"troops\", \"hughes\", \"premier\", \"communism\", \"democrats\", \"communists\", \"election\", \"aug\", \"welfare\", \"gen\", \"republicans\", \"katanga\", \"bombs\", \"police\", \"communist\", \"democratic\", \"rayburn\", \"georgia\", \"leader\", \"russia\", \"vote\", \"political\", \"jury\", \"president\", \"committee\", \"mr\", \"mayor\", \"county\", \"party\", \"council\", \"war\", \"mrs\", \"city\", \"meeting\", \"said\", \"east\", \"west\", \"yesterday\", \"nations\", \"000\", \"military\", \"administration\", \"school\", \"state\", \"american\", \"government\", \"public\", \"united\", \"people\", \"week\", \"world\", \"house\", \"states\", \"members\", \"john\", \"national\", \"program\", \"man\", \"home\", \"recommendation\", \"motors\", \"thereof\", \"boats\", \"shelter\", \"feed\", \"cattle\", \"interference\", \"chemical\", \"assessment\", \"catastrophe\", \"boat\", \"tangible\", \"engine\", \"stockholders\", \"conversion\", \"electricity\", \"claim\", \"property\", \"stations\", \"ratio\", \"accommodate\", \"farmers\", \"concrete\", \"battery\", \"pound\", \"blocks\", \"claims\", \"manufactured\", \"63\", \"loans\", \"officer\", \"credit\", \"trust\", \"shall\", \"farm\", \"respect\", \"laws\", \"general\", \"act\", \"business\", \"department\", \"stock\", \"hearing\", \"daily\", \"john\", \"small\", \"government\", \"local\", \"class\", \"board\", \"tax\", \"united\", \"court\", \"policy\", \"service\", \"states\", \"report\", \"head\", \"secretary\", \"pale\", \"smiled\", \"hadn\", \"hair\", \"listening\", \"shoes\", \"loved\", \"hell\", \"sick\", \"liked\", \"mother\", \"stared\", \"heel\", \"wondered\", \"smile\", \"tongue\", \"laughed\", \"handsome\", \"silent\", \"looked\", \"strange\", \"lips\", \"till\", \"dad\", \"dear\", \"fountain\", \"puerto\", \"rico\", \"susan\", \"nodded\", \"wasn\", \"couldn\", \"love\", \"sat\", \"didn\", \"eyes\", \"baby\", \"woman\", \"thought\", \"stood\", \"yes\", \"child\", \"wouldn\", \"knew\", \"alexander\", \"went\", \"father\", \"voice\", \"bed\", \"door\", \"felt\", \"girl\", \"got\", \"know\", \"god\", \"little\", \"said\", \"young\", \"came\", \"ll\", \"away\", \"old\", \"man\", \"boy\", \"come\", \"going\", \"don\", \"let\", \"thing\", \"good\", \"life\", \"way\", \"look\", \"day\", \"asked\", \"people\", \"think\", \"night\"], \"Freq\": [793.0, 274.0, 197.0, 90.0, 207.0, 301.0, 493.0, 334.0, 123.0, 91.0, 155.0, 202.0, 128.0, 165.0, 123.0, 176.0, 165.0, 138.0, 96.0, 298.0, 236.0, 173.0, 207.0, 127.0, 55.0, 175.0, 280.0, 251.0, 131.0, 106.0, 46.90061738279512, 38.32019195875092, 32.60147624919303, 27.83152521145409, 25.929233675327975, 24.96565102185361, 21.16277883221049, 21.1554295520155, 19.25438978445485, 21.947937942987995, 18.280628736886957, 24.504910875563546, 15.442227275155345, 59.068237809240976, 15.429350272859383, 15.429775935704058, 38.06692470201913, 14.482031649232406, 35.292612040869656, 13.535621759504744, 53.26575195711286, 13.516253246233774, 12.582744451574866, 12.582358303937454, 12.582206179585175, 12.580083705056326, 12.579537857165434, 12.57734493448934, 12.57673575456598, 18.818378791886882, 48.98101977616407, 28.516446892422934, 34.18539770126028, 30.685701114865807, 20.2967793639098, 70.92710391222957, 76.42101603091838, 21.859355384655032, 24.064317493411185, 55.75253195087146, 55.41576812531151, 23.17663878239176, 32.95509315449183, 45.29595924457131, 32.176808958136476, 45.65789699624377, 44.08800327041032, 26.856071180115432, 30.029049163988475, 68.24415837156724, 61.47380111399635, 44.515827629214556, 45.17975584948406, 41.74182728863284, 61.560506185939495, 53.2485182855713, 99.24831428743133, 73.1548685480615, 49.901918720321426, 77.17424013092662, 71.06844436634586, 67.45444118433467, 54.79575807121896, 73.85743200897491, 66.50953757158271, 58.07101352684922, 68.45390871103842, 64.72256586429457, 48.05347075701482, 59.5674878900815, 57.077270591332024, 52.348609357358576, 52.82355751026604, 50.68205733687979, 49.36909901937072, 51.044304802211705, 28.305925725072342, 24.42493313016474, 24.41658254142843, 20.544465245197678, 19.577791969757854, 51.22952404642782, 15.703268535408913, 34.9591074383232, 16.499023102025667, 39.41961363149072, 105.71631917016933, 10.843150222887743, 10.843191961881853, 15.366030813907878, 10.837350150282658, 18.966346585386304, 8.909802874473469, 27.529009854898327, 8.858011680160248, 14.160264880448885, 12.377114435979681, 7.945091103923973, 7.944499146179799, 26.498449187642578, 24.601887270428154, 6.979551908378133, 6.977825659837766, 6.961783314860119, 35.5204024907421, 16.499841358692862, 77.51764253547498, 34.38058053559413, 38.77975209703736, 33.56659824328088, 171.0664032609086, 47.60581979772402, 40.70073357657616, 50.99879715314291, 50.77495370210996, 65.62205389309973, 69.98216493822906, 23.8823120728327, 22.226309066144566, 67.03066445066739, 43.60889749862091, 90.07056610828135, 63.12724053593302, 76.72074181207196, 42.11578377574349, 269.28745480859936, 75.0150858360228, 137.83429234631956, 58.362024780288735, 85.25628829194972, 78.64673686400322, 55.99466247540459, 88.49431784587466, 132.01586015801252, 59.776284645261775, 153.87030346474845, 66.51941709764517, 61.044387012280154, 68.15034258267055, 75.45918600647933, 71.63562137761178, 89.85286077004862, 100.30627971605774, 89.75509366471245, 91.20163096512513, 79.789550964073, 66.59945264744297, 70.94711198307877, 66.17064226428683, 76.07309911924759, 73.78709559466982, 70.73831575986274, 68.82940026130538, 67.17454331593031, 130.55798857848043, 78.28316230995773, 80.1553495573065, 72.42766617967001, 49.97545822375616, 64.32886075217466, 43.14414848886355, 39.23921138129496, 37.28723205542034, 37.28516229185791, 33.38117353053976, 50.481868098471736, 29.47811606604347, 29.472070136194137, 27.52447842099426, 26.546567561465398, 24.59810024118514, 24.597463627420403, 28.366359331598456, 23.621534418463412, 23.621514707273192, 53.85156123257407, 22.63499327719873, 28.289427952000676, 21.66787535026054, 19.717225368697076, 19.715333295353968, 18.739298862850816, 44.95663417155404, 71.0888378692163, 58.67263564973982, 44.72731796352678, 41.01186311970623, 40.96117807002634, 42.754943558006886, 53.26004849556484, 77.66451404222022, 45.99694390738239, 256.68330871272224, 100.13108356008051, 299.5869369621245, 41.66774583018283, 89.549506507042, 88.25087010038453, 63.2465031430096, 111.54997230255418, 196.8118194200393, 146.64337665669547, 77.42239713159219, 381.8436104074144, 75.4505497215498, 81.92645439054772, 54.33565818383026, 64.87072201972026, 157.1712892483479, 86.05398991963575, 90.41446202544775, 105.3411037374626, 200.5101075011484, 135.26728212749606, 136.36311808125208, 113.67484428167832, 143.13046428521685, 131.39357181060336, 102.30539146482401, 118.03946916863119, 110.80907382496777, 127.5128052854807, 85.8157164220827, 87.78699173276587, 90.85601777434421, 90.58171583241348, 91.80600480969771, 85.06904723383867, 17.178192154388885, 41.10660325194993, 10.842304100261638, 34.16341019761972, 51.609310092866885, 83.87131629281042, 16.961910390036444, 28.586241537893056, 21.559437024413427, 13.892065761848594, 4.315888104638093, 31.35339840756031, 10.914009441186604, 20.29408022906205, 14.36623441443728, 9.085753040663938, 8.384577507961804, 29.567935466297886, 63.982671655925856, 39.57085104384924, 13.310226929816348, 4.413536328938501, 11.8121014142897, 15.434840879722673, 8.542015318965728, 16.214437965845246, 13.141859292913495, 18.56590499962368, 5.376394928937699, 4.116116220725773, 18.870983705822127, 31.161953588731684, 23.437239531389, 22.324315419680747, 62.11460505547896, 21.887162140461214, 25.334996433956086, 25.163041987260428, 68.3252303067495, 48.38785301733036, 65.54843990630268, 49.31128643694747, 31.930065536052837, 24.895635019269715, 25.29969976318753, 45.59237115011276, 50.87805430915237, 58.51478612185608, 39.12774388572306, 33.69960885418468, 42.05178208707659, 42.15988722908384, 51.06259229251065, 32.48766108442141, 30.13918052121709, 37.84698971611518, 43.12969271026716, 26.447916361014297, 27.322591717134042, 26.950204279624987, 26.22397208481552, 26.22312567603623, 30.807720714277096, 34.29585524073732, 18.50942093597192, 18.506600131978935, 17.5461292348097, 15.616621370254821, 15.616011782791317, 14.652382045426355, 91.6533695510009, 14.64072459551213, 14.616591009698473, 13.687751571357216, 13.684077201385556, 13.681568956662657, 12.722342624999992, 15.422502005302253, 11.760994549566394, 79.59653259438066, 15.325600615889103, 10.798802478098875, 10.795549117390275, 10.790566768128173, 10.790934402604204, 10.789337946981783, 18.783165780481852, 18.782934478517603, 25.066750015052257, 9.830940284581834, 53.62872441597583, 49.065441916510096, 55.025465700604364, 34.66268537557112, 110.38470093345862, 86.73179772095602, 32.36544188429685, 48.68000455264941, 115.39167767292915, 42.39388244533551, 35.803653355894184, 56.41316348295639, 36.297650116639055, 72.90742519564199, 22.67958197780211, 99.5684325489528, 50.25735129316539, 40.32391391324263, 30.457366445791582, 53.59719233693804, 66.88466514659392, 37.33179687081798, 97.33786957462681, 118.80837727344344, 48.24708939329568, 140.00647011714818, 351.1814087884998, 87.76999255278093, 100.05581404206988, 99.33034907589837, 79.03211438555672, 131.78047747147562, 140.16148159356453, 58.4427560014846, 102.08235138043342, 81.29417470698681, 95.25692500726022, 74.88672246223314, 64.23603254057325, 119.13152483850315, 82.15193418702765, 100.34242550525875, 70.95953136733563, 99.45093278293263, 68.2758065475478, 87.43700324028727, 69.72423847300405, 68.29549271581854], \"Total\": [793.0, 274.0, 197.0, 90.0, 207.0, 301.0, 493.0, 334.0, 123.0, 91.0, 155.0, 202.0, 128.0, 165.0, 123.0, 176.0, 165.0, 138.0, 96.0, 298.0, 236.0, 173.0, 207.0, 127.0, 55.0, 175.0, 280.0, 251.0, 131.0, 106.0, 47.66435300694078, 39.084492371229665, 33.364527973957685, 28.5979929257464, 26.691310763606396, 25.73814382775722, 21.924682233249264, 21.924817581034784, 20.01809687359508, 22.88088300320797, 19.065014116945715, 25.709666737501713, 16.204806079853498, 61.988572732105354, 16.204394517781502, 16.20489085728514, 40.058256092780745, 15.251554624872279, 37.19065702047361, 14.298157118147193, 56.28168009499066, 14.298523621335823, 13.344838599195496, 13.344843079876613, 13.344839526551368, 13.344862169537453, 13.344899633086355, 13.344939833001618, 13.344930852856598, 20.028426619099214, 52.39496639966855, 30.519591447219018, 37.209258085534785, 33.40360988757231, 21.934628832262856, 81.13903425209911, 88.7710911722733, 23.859328205313684, 26.7149284029443, 66.76963227458812, 67.14937119000085, 25.780980704131277, 39.08730858341472, 57.42506489349289, 38.23781272055417, 60.323709877599505, 59.39162196779937, 31.223974591614855, 36.354429713836126, 110.39094009275051, 97.00956488697172, 64.01392047945934, 66.04973567917797, 61.32170923668711, 117.88826919757685, 93.23398979469351, 264.6635621508045, 168.10523589933345, 87.32555005640006, 211.53755012135656, 188.1876042250866, 175.5483402691201, 122.20078914070953, 273.01938601456925, 231.7160030213157, 165.2567983044056, 306.4727202482374, 259.6511321710866, 97.21507091062837, 305.43622983849275, 255.6860895864659, 160.6976695068461, 219.23861867225742, 158.8651352095258, 138.31978127631666, 793.198062514022, 29.06627783470178, 25.188216012781414, 25.187425430065502, 21.310435117003838, 20.340699169766896, 53.31198076178559, 16.4630371300414, 36.739509201689465, 17.419236908303716, 41.64436812342543, 112.4677165201483, 11.615241615072788, 11.615681174914727, 16.465355095652914, 11.615444194120272, 20.34502437893204, 9.676277631083899, 30.04745988628147, 9.676528342844191, 15.489464864639494, 13.557378463278017, 8.707277541875055, 8.7072107746215, 29.05847769758132, 27.139427910242276, 7.737949798815944, 7.737860506987799, 7.73789755273628, 39.4890655437695, 18.395763377437344, 86.93927376656619, 38.53756413175118, 43.536513612141924, 37.81484319199794, 202.54345953668187, 54.28910391509672, 46.489141757787195, 58.87298783480309, 59.05703959312548, 78.44349545891592, 86.15500553198633, 27.144227761864016, 25.152542211811976, 85.44802420189781, 53.188983474870135, 120.69243365827357, 81.176378911568, 102.74489704878316, 52.165820481850126, 493.6253757609695, 104.64650009037032, 234.15281293863544, 79.30368946288402, 130.859651170212, 120.50229372173808, 76.67837338800322, 144.03487318157994, 255.6860895864659, 84.94096130626139, 334.6090934747786, 100.2652367701771, 95.46666258152923, 116.54560425434003, 146.63878947508465, 134.8793417769674, 215.7638644713464, 301.1143546521269, 259.6511321710866, 283.7377340480487, 204.71415487286387, 125.01374970261892, 162.35101162081645, 139.20063760686728, 274.2920039619515, 263.6274918132039, 207.05856226204003, 202.12176262528658, 219.23861867225742, 131.74744694320304, 79.04169172167211, 80.99298021478864, 73.18495123391348, 50.73405016321959, 65.35199596575507, 43.90119445536835, 39.99668095319409, 38.0444225389773, 38.04440829842817, 34.13989417338395, 51.70571903782864, 30.23542705121204, 30.23493615522611, 28.283157414718232, 27.30700265152174, 25.354806496723143, 25.354775130552333, 29.258280708044037, 24.37867489012526, 24.37867052707379, 55.59125568724584, 23.401739554694206, 29.257207622704733, 22.42640218894516, 20.4741736957409, 20.474115528689573, 19.498022721083387, 46.82195912250449, 74.13978785883911, 61.457501661240386, 46.81317161844797, 42.91715478224243, 42.89665200500993, 44.867768474782224, 56.465180883003015, 83.75605493543975, 48.75710006406642, 298.00492537405034, 111.16954463300402, 388.94905731377287, 44.816808509298184, 105.29405630331749, 108.99175405552204, 73.93467892099108, 146.94695472971065, 305.43622983849275, 215.50738617088138, 98.07230972170903, 793.198062514022, 95.30910098855253, 106.76662465986618, 62.315939205517665, 79.91343885868758, 283.7377340480487, 123.46464847790246, 133.10411493977057, 172.87352126817868, 493.6253757609695, 263.6274918132039, 274.2920039619515, 202.12176262528658, 301.1143546521269, 265.38333183383327, 188.83148033048113, 255.8211590073812, 231.7160030213157, 334.6090934747786, 141.93088414521418, 165.0858665121468, 215.7638644713464, 234.15281293863544, 280.60515491806694, 264.6635621508045, 17.961121314259408, 43.12194604653754, 11.700075655514423, 36.90569403096416, 55.84550812393371, 90.90616061720596, 19.90878972846614, 34.47677595534101, 26.335730556568773, 17.282024361165234, 5.455801077999402, 39.99891901371446, 14.622982316965352, 28.351111087163158, 20.167632226739773, 12.810231836101359, 11.91158828458607, 42.15346438822943, 91.75925342616232, 56.93288479393979, 19.252482229328187, 6.423512756744698, 17.469779612267267, 22.959421024424834, 12.803104188002493, 24.696805696968696, 20.138418395357416, 28.52211199555115, 8.276134489824845, 6.441695690297932, 30.456894083649765, 51.788746686224606, 38.81757716815531, 37.01753180641857, 123.83285098432735, 37.98222346660759, 46.37530083851885, 47.48340486956446, 197.37841645995587, 128.93242528505579, 207.05856226204003, 155.2374171283645, 75.70146992373213, 50.32454706527675, 52.30758922305785, 165.0858665121468, 207.43867271064556, 274.2920039619515, 127.8294879471016, 97.21507091062837, 173.06300374244168, 176.2368911946502, 301.1143546521269, 106.2613139654031, 92.75698836431364, 204.71415487286387, 334.6090934747786, 88.1620215799037, 132.73249417201154, 121.30035314519762, 26.985718850138337, 26.98574011303125, 31.804157090501356, 35.65690093636525, 19.271959939038837, 19.271928781912692, 18.307756487420363, 16.379241516888634, 16.379216173724895, 15.415029062860148, 96.45899309675676, 15.414880981580348, 15.41526481770947, 14.45071119066925, 14.4507638844341, 14.45086363233153, 13.486300190496241, 16.3770424004387, 12.522303359993163, 84.882696410411, 16.38286702212014, 11.558146294110992, 11.557949780159587, 11.557639126610667, 11.558162833175272, 11.558051587014766, 20.22402689990839, 20.224030361398192, 26.999578613815153, 10.593890181544445, 57.85865846732314, 53.030372288848454, 59.81156820696332, 37.611953138586635, 123.42688522657305, 97.39117995857616, 35.6949861791527, 54.95247669899155, 138.6983786508942, 48.25759988223434, 40.48732403924649, 66.60739113340797, 41.49620421779663, 89.53364153849793, 25.073035349115056, 135.94578054290614, 62.7820299463266, 49.24574271182143, 35.63708879050528, 69.459778141757, 90.79523483151364, 45.38786301885671, 145.50569633380394, 189.70420918103287, 62.82940619342615, 236.30079058658134, 793.198062514022, 135.29814974627877, 161.03398411558885, 165.2567983044056, 122.5461544870133, 251.92407677669956, 280.60515491806694, 81.83629935183654, 184.36189869363704, 132.47185180074928, 175.5483402691201, 121.46569418607586, 95.39493602342324, 306.4727202482374, 161.4360556056239, 273.01938601456925, 129.09915082589356, 301.1134031707985, 117.84170377486383, 265.38333183383327, 132.8099695647968, 150.04996102402902], \"Category\": [\"Default\", \"Default\", \"Default\", \"Default\", \"Default\", \"Default\", \"Default\", \"Default\", \"Default\", \"Default\", \"Default\", \"Default\", \"Default\", \"Default\", \"Default\", \"Default\", \"Default\", \"Default\", \"Default\", \"Default\", \"Default\", \"Default\", \"Default\", \"Default\", \"Default\", \"Default\", \"Default\", \"Default\", \"Default\", \"Default\", \"Topic1\", \"Topic1\", \"Topic1\", \"Topic1\", \"Topic1\", \"Topic1\", \"Topic1\", \"Topic1\", \"Topic1\", \"Topic1\", \"Topic1\", \"Topic1\", \"Topic1\", \"Topic1\", \"Topic1\", \"Topic1\", \"Topic1\", \"Topic1\", \"Topic1\", \"Topic1\", \"Topic1\", \"Topic1\", \"Topic1\", \"Topic1\", \"Topic1\", \"Topic1\", \"Topic1\", \"Topic1\", \"Topic1\", \"Topic1\", \"Topic1\", \"Topic1\", \"Topic1\", \"Topic1\", \"Topic1\", \"Topic1\", \"Topic1\", \"Topic1\", \"Topic1\", \"Topic1\", \"Topic1\", \"Topic1\", \"Topic1\", \"Topic1\", \"Topic1\", \"Topic1\", \"Topic1\", \"Topic1\", \"Topic1\", \"Topic1\", \"Topic1\", \"Topic1\", \"Topic1\", \"Topic1\", \"Topic1\", \"Topic1\", \"Topic1\", \"Topic1\", \"Topic1\", \"Topic1\", \"Topic1\", \"Topic1\", \"Topic1\", \"Topic1\", \"Topic1\", \"Topic1\", \"Topic1\", \"Topic1\", \"Topic1\", \"Topic1\", \"Topic1\", \"Topic1\", \"Topic1\", \"Topic1\", \"Topic1\", \"Topic1\", \"Topic2\", \"Topic2\", \"Topic2\", \"Topic2\", \"Topic2\", \"Topic2\", \"Topic2\", \"Topic2\", \"Topic2\", \"Topic2\", \"Topic2\", \"Topic2\", \"Topic2\", \"Topic2\", \"Topic2\", \"Topic2\", \"Topic2\", \"Topic2\", \"Topic2\", \"Topic2\", \"Topic2\", \"Topic2\", \"Topic2\", \"Topic2\", \"Topic2\", \"Topic2\", \"Topic2\", \"Topic2\", \"Topic2\", \"Topic2\", \"Topic2\", \"Topic2\", \"Topic2\", \"Topic2\", \"Topic2\", \"Topic2\", \"Topic2\", \"Topic2\", \"Topic2\", \"Topic2\", \"Topic2\", \"Topic2\", \"Topic2\", \"Topic2\", \"Topic2\", \"Topic2\", \"Topic2\", \"Topic2\", \"Topic2\", \"Topic2\", \"Topic2\", \"Topic2\", \"Topic2\", \"Topic2\", \"Topic2\", \"Topic2\", \"Topic2\", \"Topic2\", \"Topic2\", \"Topic2\", \"Topic2\", \"Topic2\", \"Topic2\", \"Topic2\", \"Topic2\", \"Topic2\", \"Topic2\", \"Topic2\", \"Topic2\", \"Topic2\", \"Topic2\", \"Topic2\", \"Topic2\", \"Topic2\", \"Topic2\", \"Topic2\", \"Topic2\", \"Topic2\", \"Topic3\", \"Topic3\", \"Topic3\", \"Topic3\", \"Topic3\", \"Topic3\", \"Topic3\", \"Topic3\", \"Topic3\", \"Topic3\", \"Topic3\", \"Topic3\", \"Topic3\", \"Topic3\", \"Topic3\", \"Topic3\", \"Topic3\", \"Topic3\", \"Topic3\", \"Topic3\", \"Topic3\", \"Topic3\", \"Topic3\", \"Topic3\", \"Topic3\", \"Topic3\", \"Topic3\", \"Topic3\", \"Topic3\", \"Topic3\", \"Topic3\", \"Topic3\", \"Topic3\", \"Topic3\", \"Topic3\", \"Topic3\", \"Topic3\", \"Topic3\", \"Topic3\", \"Topic3\", \"Topic3\", \"Topic3\", \"Topic3\", \"Topic3\", \"Topic3\", \"Topic3\", \"Topic3\", \"Topic3\", \"Topic3\", \"Topic3\", \"Topic3\", \"Topic3\", \"Topic3\", \"Topic3\", \"Topic3\", \"Topic3\", \"Topic3\", \"Topic3\", \"Topic3\", \"Topic3\", \"Topic3\", \"Topic3\", \"Topic3\", \"Topic3\", \"Topic3\", \"Topic3\", \"Topic3\", \"Topic3\", \"Topic3\", \"Topic3\", \"Topic3\", \"Topic3\", \"Topic3\", \"Topic3\", \"Topic4\", \"Topic4\", \"Topic4\", \"Topic4\", \"Topic4\", \"Topic4\", \"Topic4\", \"Topic4\", \"Topic4\", \"Topic4\", \"Topic4\", \"Topic4\", \"Topic4\", \"Topic4\", \"Topic4\", \"Topic4\", \"Topic4\", \"Topic4\", \"Topic4\", \"Topic4\", \"Topic4\", \"Topic4\", \"Topic4\", \"Topic4\", \"Topic4\", \"Topic4\", \"Topic4\", \"Topic4\", \"Topic4\", \"Topic4\", \"Topic4\", \"Topic4\", \"Topic4\", \"Topic4\", \"Topic4\", \"Topic4\", \"Topic4\", \"Topic4\", \"Topic4\", \"Topic4\", \"Topic4\", \"Topic4\", \"Topic4\", \"Topic4\", \"Topic4\", \"Topic4\", \"Topic4\", \"Topic4\", \"Topic4\", \"Topic4\", \"Topic4\", \"Topic4\", \"Topic4\", \"Topic4\", \"Topic4\", \"Topic4\", \"Topic4\", \"Topic4\", \"Topic4\", \"Topic4\", \"Topic5\", \"Topic5\", \"Topic5\", \"Topic5\", \"Topic5\", \"Topic5\", \"Topic5\", \"Topic5\", \"Topic5\", \"Topic5\", \"Topic5\", \"Topic5\", \"Topic5\", \"Topic5\", \"Topic5\", \"Topic5\", \"Topic5\", \"Topic5\", \"Topic5\", \"Topic5\", \"Topic5\", \"Topic5\", \"Topic5\", \"Topic5\", \"Topic5\", \"Topic5\", \"Topic5\", \"Topic5\", \"Topic5\", \"Topic5\", \"Topic5\", \"Topic5\", \"Topic5\", \"Topic5\", \"Topic5\", \"Topic5\", \"Topic5\", \"Topic5\", \"Topic5\", \"Topic5\", \"Topic5\", \"Topic5\", \"Topic5\", \"Topic5\", \"Topic5\", \"Topic5\", \"Topic5\", \"Topic5\", \"Topic5\", \"Topic5\", \"Topic5\", \"Topic5\", \"Topic5\", \"Topic5\", \"Topic5\", \"Topic5\", \"Topic5\", \"Topic5\", \"Topic5\", \"Topic5\", \"Topic5\", \"Topic5\", \"Topic5\", \"Topic5\", \"Topic5\", \"Topic5\", \"Topic5\", \"Topic5\", \"Topic5\", \"Topic5\", \"Topic5\", \"Topic5\", \"Topic5\", \"Topic5\", \"Topic5\", \"Topic5\", \"Topic5\", \"Topic5\"], \"logprob\": [30.0, 29.0, 28.0, 27.0, 26.0, 25.0, 24.0, 23.0, 22.0, 21.0, 20.0, 19.0, 18.0, 17.0, 16.0, 15.0, 14.0, 13.0, 12.0, 11.0, 10.0, 9.0, 8.0, 7.0, 6.0, 5.0, 4.0, 3.0, 2.0, 1.0, -6.1393, -6.3414, -6.503, -6.6612, -6.732, -6.7699, -6.9351, -6.9355, -7.0296, -6.8987, -7.0815, -6.7885, -7.2503, -5.9087, -7.2511, -7.2511, -6.348, -7.3145, -6.4237, -7.382, -6.0121, -7.3835, -7.455, -7.4551, -7.4551, -7.4553, -7.4553, -7.4555, -7.4555, -7.0525, -6.0959, -6.6369, -6.4556, -6.5636, -6.9769, -5.7257, -5.6511, -6.9027, -6.8066, -5.9665, -5.9725, -6.8442, -6.4922, -6.1742, -6.5161, -6.1662, -6.2012, -6.6969, -6.5852, -5.7643, -5.8688, -6.1915, -6.1767, -6.2559, -5.8674, -6.0124, -5.3897, -5.6948, -6.0773, -5.6413, -5.7237, -5.7759, -5.9838, -5.6852, -5.79, -5.9257, -5.7612, -5.8173, -6.1151, -5.9003, -5.943, -6.0294, -6.0204, -6.0618, -6.088, -6.0547, -6.9734, -7.1208, -7.1212, -7.2938, -7.342, -6.3801, -7.5626, -6.7623, -7.5131, -6.6422, -5.6557, -7.9329, -7.9329, -7.5843, -7.9334, -7.3738, -8.1293, -7.0012, -8.1351, -7.666, -7.8006, -8.2439, -8.244, -7.0394, -7.1136, -8.3735, -8.3737, -8.376, -6.7463, -7.5131, -5.9659, -6.7789, -6.6585, -6.8029, -5.1744, -6.4535, -6.6102, -6.3846, -6.389, -6.1325, -6.0682, -7.1433, -7.2152, -6.1113, -6.5412, -5.8158, -6.1713, -5.9763, -6.576, -4.7207, -5.9987, -5.3904, -6.2498, -5.8708, -5.9515, -6.2912, -5.8335, -5.4335, -6.2258, -5.2803, -6.1189, -6.2048, -6.0947, -5.9928, -6.0448, -5.8183, -5.7082, -5.8194, -5.8034, -5.937, -6.1177, -6.0545, -6.1242, -5.9847, -6.0153, -6.0575, -6.0848, -6.1091, -5.7478, -6.2592, -6.2356, -6.337, -6.708, -6.4556, -6.855, -6.9499, -7.0009, -7.001, -7.1116, -6.698, -7.2359, -7.2361, -7.3045, -7.3407, -7.4169, -7.4169, -7.2744, -7.4574, -7.4574, -6.6333, -7.5001, -7.2771, -7.5437, -7.6381, -7.6382, -7.6889, -6.8139, -6.3556, -6.5476, -6.819, -6.9057, -6.9069, -6.8641, -6.6444, -6.2672, -6.791, -5.0717, -6.0131, -4.9172, -6.8898, -6.1248, -6.1394, -6.4725, -5.9051, -5.3373, -5.6316, -6.2703, -4.6746, -6.2961, -6.2137, -6.6244, -6.4472, -5.5622, -6.1646, -6.1152, -5.9624, -5.3187, -5.7123, -5.7043, -5.8862, -5.6558, -5.7414, -5.9916, -5.8486, -5.9118, -5.7714, -6.1674, -6.1447, -6.1103, -6.1133, -6.0999, -6.1761, -6.2955, -5.423, -6.7557, -5.608, -5.1954, -4.7098, -6.3082, -5.7862, -6.0683, -6.5078, -7.6768, -5.6938, -6.7491, -6.1288, -6.4743, -6.9324, -7.0127, -5.7524, -4.9805, -5.461, -6.5506, -7.6545, -6.67, -6.4025, -6.9941, -6.3532, -6.5633, -6.2178, -7.4571, -7.7242, -6.2015, -5.6999, -5.9848, -6.0335, -5.0102, -6.0532, -5.9069, -5.9138, -4.9149, -5.2599, -4.9563, -5.241, -5.6756, -5.9244, -5.9083, -5.3194, -5.2097, -5.0699, -5.4723, -5.6216, -5.4002, -5.3977, -5.2061, -5.6583, -5.7333, -5.5056, -5.3749, -5.864, -5.8314, -5.8451, -6.7522, -6.7522, -6.5911, -6.4838, -7.1006, -7.1007, -7.154, -7.2705, -7.2706, -7.3343, -5.5008, -7.335, -7.3367, -7.4024, -7.4026, -7.4028, -7.4755, -7.283, -7.5541, -5.6419, -7.2893, -7.6394, -7.6397, -7.6402, -7.6401, -7.6403, -7.0859, -7.0859, -6.7973, -7.7333, -6.0368, -6.1257, -6.0111, -6.4732, -5.3149, -5.556, -6.5418, -6.1336, -5.2705, -6.2718, -6.4408, -5.9862, -6.4271, -5.7297, -6.8974, -5.418, -6.1017, -6.3219, -6.6025, -6.0374, -5.8159, -6.399, -5.4407, -5.2413, -6.1425, -5.0772, -4.1576, -5.5441, -5.4131, -5.4204, -5.649, -5.1377, -5.0761, -5.9508, -5.3931, -5.6208, -5.4623, -5.7029, -5.8563, -5.2386, -5.6103, -5.4103, -5.7567, -5.4192, -5.7953, -5.5479, -5.7743, -5.795], \"loglift\": [30.0, 29.0, 28.0, 27.0, 26.0, 25.0, 24.0, 23.0, 22.0, 21.0, 20.0, 19.0, 18.0, 17.0, 16.0, 15.0, 14.0, 13.0, 12.0, 11.0, 10.0, 9.0, 8.0, 7.0, 6.0, 5.0, 4.0, 3.0, 2.0, 1.0, 1.7298, 1.7262, 1.7229, 1.7188, 1.717, 1.7155, 1.7106, 1.7103, 1.7071, 1.7044, 1.704, 1.698, 1.6978, 1.6977, 1.697, 1.697, 1.695, 1.6942, 1.6936, 1.6912, 1.6909, 1.6897, 1.6872, 1.6872, 1.6871, 1.687, 1.6869, 1.6867, 1.6867, 1.6837, 1.6786, 1.6781, 1.6612, 1.6611, 1.6684, 1.6115, 1.5962, 1.6584, 1.6415, 1.5657, 1.5539, 1.6395, 1.5753, 1.5087, 1.5734, 1.4674, 1.448, 1.5953, 1.5548, 1.2651, 1.2898, 1.3827, 1.3662, 1.3614, 1.0963, 1.1858, 0.7652, 0.914, 1.1864, 0.7376, 0.7722, 0.7895, 0.9439, 0.4386, 0.4978, 0.7002, 0.247, 0.3568, 1.0414, 0.1114, 0.2464, 0.6244, 0.3228, 0.6035, 0.7157, -0.9974, 1.3904, 1.3862, 1.3858, 1.3803, 1.3787, 1.3771, 1.3697, 1.3672, 1.3626, 1.362, 1.355, 1.3481, 1.3481, 1.3478, 1.3476, 1.3468, 1.3344, 1.3294, 1.3285, 1.3272, 1.3258, 1.3253, 1.3253, 1.3247, 1.3188, 1.3138, 1.3135, 1.3112, 1.311, 1.3082, 1.3022, 1.3028, 1.3012, 1.2978, 1.248, 1.2856, 1.2839, 1.2733, 1.2658, 1.2385, 1.209, 1.2889, 1.2932, 1.1742, 1.2183, 1.1243, 1.1655, 1.1248, 1.2029, 0.8109, 1.084, 0.887, 1.1103, 0.9885, 0.9902, 1.1026, 0.9298, 0.7559, 1.0656, 0.6401, 1.0066, 0.9697, 0.8804, 0.7525, 0.7841, 0.5409, 0.3177, 0.3547, 0.2819, 0.4747, 0.7872, 0.5891, 0.6732, 0.1344, 0.1436, 0.3429, 0.3397, 0.2341, 1.1047, 1.1041, 1.1034, 1.1034, 1.0987, 1.098, 1.0964, 1.0947, 1.0937, 1.0936, 1.0913, 1.0898, 1.0884, 1.0882, 1.0866, 1.0855, 1.0835, 1.0835, 1.0828, 1.0822, 1.0822, 1.082, 1.0805, 1.0802, 1.0794, 1.0761, 1.076, 1.0741, 1.0731, 1.0718, 1.0674, 1.0682, 1.0684, 1.0676, 1.0656, 1.0554, 1.0383, 1.0555, 0.9645, 1.0092, 0.8527, 1.0409, 0.9518, 0.9027, 0.9576, 0.8382, 0.6743, 0.7288, 0.8774, 0.3827, 0.8801, 0.849, 0.9768, 0.9052, 0.5231, 0.7528, 0.7271, 0.6184, 0.2129, 0.4465, 0.4149, 0.5383, 0.3701, 0.4108, 0.5009, 0.3403, 0.3761, 0.149, 0.6107, 0.4822, 0.2489, 0.1641, -0.0035, -0.0212, 2.5497, 2.5464, 2.5181, 2.517, 2.5153, 2.5137, 2.434, 2.4069, 2.3941, 2.3759, 2.3599, 2.3507, 2.3017, 2.2599, 2.255, 2.2507, 2.2431, 2.2396, 2.2337, 2.2304, 2.2251, 2.2189, 2.2029, 2.1971, 2.1895, 2.1735, 2.1674, 2.1649, 2.1629, 2.1463, 2.1155, 2.0863, 2.0897, 2.0885, 1.9043, 2.043, 1.9896, 1.9592, 1.5334, 1.6142, 1.444, 1.4474, 1.731, 1.8904, 1.8679, 1.3075, 1.1888, 1.0493, 1.4104, 1.5348, 1.1795, 1.1639, 0.8198, 1.4092, 1.4701, 0.9062, 0.5455, 1.3902, 1.0136, 1.0899, 1.6859, 1.6858, 1.6827, 1.6756, 1.6741, 1.674, 1.672, 1.6668, 1.6668, 1.6638, 1.6634, 1.663, 1.6613, 1.6603, 1.66, 1.6598, 1.6562, 1.6545, 1.6518, 1.6502, 1.6478, 1.6466, 1.6463, 1.6458, 1.6458, 1.6457, 1.6406, 1.6406, 1.6402, 1.6398, 1.6386, 1.6368, 1.6311, 1.6328, 1.6028, 1.5986, 1.6166, 1.5933, 1.5305, 1.585, 1.5916, 1.5484, 1.5807, 1.5091, 1.6142, 1.4031, 1.492, 1.5146, 1.5574, 1.4553, 1.4089, 1.5191, 1.3125, 1.2466, 1.4504, 1.1911, 0.8997, 1.2817, 1.2386, 1.2055, 1.2759, 1.0665, 1.0204, 1.3778, 1.1234, 1.2262, 1.1032, 1.2309, 1.319, 0.7696, 1.039, 0.7136, 1.116, 0.6067, 1.1687, 0.6043, 1.0701, 0.9274]}, \"token.table\": {\"Topic\": [1, 2, 3, 4, 5, 1, 2, 3, 2, 4, 2, 3, 3, 4, 2, 3, 4, 5, 2, 3, 4, 2, 3, 4, 3, 5, 1, 1, 2, 3, 4, 5, 1, 2, 3, 4, 5, 1, 2, 3, 4, 5, 3, 4, 3, 1, 2, 3, 4, 5, 1, 2, 3, 5, 3, 5, 1, 5, 1, 1, 1, 4, 1, 3, 5, 3, 1, 2, 3, 4, 5, 1, 2, 3, 4, 5, 1, 3, 4, 1, 2, 3, 4, 5, 1, 2, 4, 5, 3, 4, 5, 1, 3, 3, 1, 3, 5, 1, 2, 1, 2, 3, 4, 5, 1, 2, 3, 5, 3, 2, 4, 2, 4, 5, 1, 2, 3, 5, 1, 3, 2, 3, 4, 1, 3, 1, 2, 3, 5, 1, 2, 3, 4, 5, 3, 4, 5, 2, 3, 4, 5, 1, 2, 3, 4, 5, 1, 3, 4, 5, 1, 2, 3, 5, 1, 1, 2, 3, 4, 5, 1, 2, 3, 4, 5, 1, 2, 3, 3, 2, 3, 5, 3, 1, 2, 3, 4, 5, 2, 3, 4, 5, 3, 1, 3, 4, 1, 2, 5, 1, 2, 3, 1, 3, 5, 1, 2, 3, 4, 2, 3, 1, 3, 4, 5, 2, 3, 2, 3, 2, 3, 4, 5, 3, 2, 1, 2, 3, 5, 5, 2, 3, 4, 1, 2, 3, 4, 5, 5, 2, 3, 3, 1, 2, 3, 4, 2, 2, 1, 2, 3, 4, 1, 2, 3, 5, 1, 2, 3, 4, 5, 1, 2, 3, 5, 1, 2, 3, 1, 2, 3, 4, 2, 1, 3, 2, 3, 4, 2, 1, 2, 3, 4, 5, 1, 2, 3, 2, 2, 5, 2, 3, 1, 2, 3, 5, 2, 3, 1, 3, 4, 5, 3, 4, 2, 3, 5, 1, 1, 4, 5, 2, 3, 4, 5, 1, 4, 2, 3, 2, 5, 1, 3, 2, 5, 1, 3, 5, 1, 1, 2, 3, 4, 5, 1, 5, 3, 1, 2, 3, 4, 5, 2, 3, 2, 3, 5, 3, 5, 1, 2, 3, 5, 1, 2, 1, 2, 3, 4, 5, 1, 3, 5, 2, 3, 4, 5, 1, 3, 5, 5, 1, 5, 5, 1, 2, 3, 4, 5, 3, 4, 5, 5, 5, 1, 2, 3, 4, 5, 1, 3, 5, 1, 1, 5, 1, 1, 2, 3, 4, 5, 1, 1, 2, 3, 4, 5, 3, 1, 2, 1, 2, 3, 4, 5, 2, 1, 2, 4, 2, 3, 1, 2, 3, 4, 1, 2, 3, 4, 5, 1, 3, 4, 1, 2, 2, 1, 2, 3, 4, 5, 1, 2, 3, 4, 5, 1, 2, 3, 4, 3, 5, 3, 2, 3, 3, 1, 3, 4, 5, 1, 2, 3, 4, 5, 2, 3, 5, 2, 3, 4, 1, 3, 1, 2, 3, 5, 1, 2, 3, 4, 5, 1, 1, 2, 3, 4, 5, 2, 5, 1, 2, 3, 4, 5, 5, 5, 5, 1, 2, 3, 4, 5, 1, 2, 3, 5, 2, 3, 4, 1, 2, 3, 4, 2, 1, 2, 3, 4, 5, 1, 3, 5, 2, 3, 5, 5, 2, 3, 1, 2, 3, 5, 1, 2, 3, 4, 2, 4, 1, 3, 1, 2, 3, 4, 1, 2, 3, 4, 5, 1, 2, 3, 5, 1, 2, 3, 4, 3, 3, 5, 2, 4, 1, 2, 3, 4, 5, 1, 3, 5, 2, 1, 2, 3, 4, 5, 2, 3, 1, 3, 4, 5, 5, 3, 2, 3, 4, 5, 1, 2, 3, 5, 2, 3, 4, 1, 1, 5, 1, 2, 1, 3, 5, 1, 2, 3, 4, 5, 1, 2, 3, 4, 5, 1, 2, 3, 1, 2, 4, 1, 1, 1, 1, 2, 3, 4, 5, 2, 3, 4, 1, 2, 3, 4, 5, 1, 4, 1, 2, 3, 4, 5, 1, 1, 2, 4, 5, 2, 3, 1, 2, 3, 4, 2, 3, 4, 2, 5, 1, 4, 3, 1, 2, 3, 4, 5, 2, 1, 2, 3, 4, 1, 2, 3, 1, 2, 3, 2, 3, 4, 5, 1, 2, 3, 4, 2, 2, 3, 2, 5, 2, 4, 3, 5, 4, 2, 4, 1, 2, 3, 4, 5, 3, 3, 1, 2, 3, 4, 2, 4, 1, 2, 3, 4, 5, 2, 3, 4, 5, 2, 5, 1, 2, 3, 4, 5, 1, 5, 1, 2, 3, 4, 5, 1, 2, 2, 3, 1, 1, 2, 3, 4, 5, 2, 3, 5, 1, 2, 3, 5, 1, 2, 4, 1, 2, 3, 4, 5, 2, 3, 4, 5, 3, 2, 3, 1, 2, 3, 4, 5, 2, 3, 4, 5, 1, 2, 3, 4, 5, 1, 2, 3, 4, 5, 3, 4, 5, 5, 1, 3, 5, 1, 2, 3, 1, 2, 3, 4, 5, 5, 5, 3, 1, 5, 1, 2, 3, 4, 5, 2, 3, 4, 5, 3, 4, 1, 2, 3, 4, 5, 3, 4, 3, 5, 5, 3, 5, 1, 2, 3, 4, 5, 3, 4, 2, 3, 4, 5, 1, 2, 2, 3, 4, 2, 4, 1, 2, 3, 4, 5, 1, 2, 3, 4, 5, 1, 2, 3, 4, 5, 5, 5, 3, 3, 4, 2, 3, 4, 5, 1, 2, 3, 4, 5, 1, 2, 3, 4, 1, 2, 3, 5, 2, 3, 4, 2, 3, 4, 5, 1, 3, 5, 1, 2, 3, 4, 5, 1, 2, 3, 4, 5, 3, 1, 2, 3, 5, 3, 1, 3, 5, 1, 2, 3, 4, 5, 1, 1, 2, 3, 5, 1, 2, 3, 5, 5, 1, 2, 3, 4, 5, 1, 2, 3, 4, 5, 2, 3, 5, 1, 1, 1, 3, 5, 1, 3, 5, 1, 2, 3, 5], \"Freq\": [0.08106077281954023, 0.32071870985122436, 0.5533278840290354, 0.042292577123238376, 0.0035243814269365317, 0.09934307392498408, 0.6495508679710498, 0.24453679735380696, 0.31047725570338125, 0.6209545114067625, 0.9318591357129572, 0.0665613668366398, 0.15567805932198056, 0.6227122372879222, 0.4110680450074733, 0.178388019531545, 0.37228804076148525, 0.03878000424598805, 0.8662716446990154, 0.06794287409404043, 0.05095715557053032, 0.2028487249415051, 0.6761624164716836, 0.1202066518171882, 0.0797669676667444, 0.9173201281675606, 0.9741520128739289, 0.11379693291341869, 0.28069910118643276, 0.5120861981103841, 0.015172924388455826, 0.07586462194227912, 0.0954726921172432, 0.5114608506280885, 0.30687651037685315, 0.06137530207537063, 0.01363895601674903, 0.042429800654889396, 0.01697192026195576, 0.33943840523911517, 0.02545788039293364, 0.5770452889064959, 0.1735907748597645, 0.8100902826789012, 0.9828329191616176, 0.11618036111684786, 0.6555891805879273, 0.0829859722263199, 0.14937475000737582, 0.00829859722263199, 0.13872324326424748, 0.016320381560499704, 0.19584457872599645, 0.6446550716397383, 0.08404541704941519, 0.8964844485270954, 0.9517883280678037, 0.032264011120942494, 0.9722526172035443, 0.9741576821733928, 0.31242423253481855, 0.7029545232033417, 0.11224261396642791, 0.02806065349160698, 0.8418196047482094, 0.9793120937505333, 0.35425157231932275, 0.18074059812210347, 0.21688871774652416, 0.04337774354930483, 0.20242946989675586, 0.32102701409429174, 0.19513406739064793, 0.1510715360443726, 0.012589294670364383, 0.32102701409429174, 0.29793799504052426, 0.04965633250675404, 0.6455323225878026, 0.15601254696920858, 0.11556484960682116, 0.4795941258683078, 0.24268618417432444, 0.011556484960682116, 0.07500202690406177, 0.07500202690406177, 0.7750209446753049, 0.07500202690406177, 0.0270960898109921, 0.9212670535737314, 0.0541921796219842, 0.9220712255888414, 0.041912328435856426, 0.9744577833246203, 0.20773177837517273, 0.07331709825006096, 0.7087319497505893, 0.1725267601825862, 0.8051248808520689, 0.014488654645459155, 0.34289815994253336, 0.24147757742431925, 0.3187504022001014, 0.08693192787275493, 0.16766647206976898, 0.062098693359173694, 0.14903686406201688, 0.620986933591737, 0.9591397518837917, 0.18329114014668071, 0.7331645605867229, 0.050229070357309176, 0.853894196074256, 0.050229070357309176, 0.5684622112247795, 0.12870842518296893, 0.2359654461687764, 0.06435421259148447, 0.9441377745427899, 0.9899884793424485, 0.07594245375893517, 0.07594245375893517, 0.8353669913482868, 0.9486516520414788, 0.04992903431797257, 0.015013348863898596, 0.030026697727797192, 0.10509344204729017, 0.8407475363783213, 0.134566153463553, 0.1113650925215611, 0.6821111916945617, 0.009280424376796758, 0.0649629706375773, 0.16605989807932892, 0.7116852774828382, 0.14233705549656764, 0.140242069052387, 0.140242069052387, 0.6661498279988383, 0.0701210345261935, 0.49375060420546624, 0.020572941841894427, 0.06171882552568328, 0.3497400113122052, 0.07200529644663049, 0.8750412258963163, 0.08627167015879175, 0.01232452430839882, 0.01232452430839882, 0.6159925800329843, 0.13588071618374656, 0.17211557383274562, 0.06341100088574839, 0.9615013545113418, 0.04799472069490533, 0.5359410477597762, 0.2639709638219793, 0.007999120115817555, 0.143984162084716, 0.1193305132779005, 0.06508937087885482, 0.24408514079570554, 0.010848228479809135, 0.5532596524702659, 0.008995269372571666, 0.08995269372571667, 0.8995269372571667, 0.9569940311736057, 0.013488034277950497, 0.9576504337344852, 0.013488034277950497, 0.9844671379165957, 0.02873550056068612, 0.474135759251321, 0.3160905061675473, 0.13649362766325907, 0.05028712598120071, 0.9046323873891164, 0.17422042113974456, 0.653326579274042, 0.13066531585480842, 0.9794722110286876, 0.07806259970891659, 0.15612519941783318, 0.7025633973802493, 0.9137510864054988, 0.026875031953102906, 0.026875031953102906, 0.013041486873226446, 0.7303232649006809, 0.24778825059130247, 0.018857118229401646, 0.03771423645880329, 0.9239987932406806, 0.027050905328705938, 0.09467816865047078, 0.852103517854237, 0.027050905328705938, 0.14245818355396947, 0.8547491013238169, 0.03764305042663347, 0.6305210946461105, 0.30114440341306775, 0.0282322878199751, 0.8851268726106315, 0.07376057271755262, 0.9110037355926938, 0.06073358237284625, 0.1545691523715758, 0.20609220316210106, 0.5925150840910406, 0.025761525395262632, 0.972547652989222, 0.9187787234136133, 0.6288039748562179, 0.05154130941444409, 0.26801480895510926, 0.05154130941444409, 0.9517514675357235, 0.17205916261253892, 0.34411832522507785, 0.4779421183681637, 0.12619830137034957, 0.2158655155019137, 0.26235962653309514, 0.06642015861597345, 0.3287797851490686, 0.9517083431656471, 0.03254281326019712, 0.960012991175815, 0.984466961726511, 0.00644174593019097, 0.33497078836993044, 0.34141253430012136, 0.3156455505793575, 0.9300856341371143, 0.9470150100301967, 0.03456048403642605, 0.8442632528898365, 0.11355587611968561, 0.004937212005203722, 0.0405098126783445, 0.008101962535668899, 0.04861177521401339, 0.8912158789235789, 0.3816612557959094, 0.028482183268351453, 0.028482183268351453, 0.017089309961010872, 0.5411614820986775, 0.07198410553220815, 0.057587284425766515, 0.10077774774509139, 0.7774283397478479, 0.9280434092104949, 0.02993688416808048, 0.02993688416808048, 0.07344524213737744, 0.11541395193016454, 0.7869133086147583, 0.010492177448196777, 0.904638495443075, 0.017988440585439545, 0.9713757916137354, 0.16790372133563886, 0.08395186066781943, 0.6716148853425554, 0.9528564190348686, 0.03527198623452824, 0.07054397246905648, 0.07054397246905648, 0.7054397246905649, 0.07054397246905648, 0.03441336502232651, 0.8947474905804893, 0.03441336502232651, 0.9301097325988832, 0.903840134074628, 0.06456000957675914, 0.9211690122091754, 0.07369352097673403, 0.04107148102837791, 0.010267870257094478, 0.051339351285472394, 0.8933047123672196, 0.9566329982726353, 0.03751501954010334, 0.02632810585402297, 0.31593727024827567, 0.5792183287885053, 0.05265621170804594, 0.2862085333056522, 0.6869004799335653, 0.03185624933933855, 0.15928124669669275, 0.7964062334834638, 0.9256464688410126, 0.022000709153494453, 0.924029784446767, 0.05500177288373613, 0.05506896930525451, 0.19824828949891624, 0.011013793861050903, 0.7379241886904104, 0.8647201502415648, 0.12810668892467628, 0.9424926839428661, 0.053348642487332044, 0.8697654819600593, 0.05436034262250371, 0.8921305307952991, 0.07757656789524339, 0.9718741368081798, 0.9517175033513671, 0.8368679514662426, 0.10460849393328032, 0.05230424696664016, 0.957818687539058, 0.8561345703469034, 0.05632464278598049, 0.022529857114392197, 0.011264928557196099, 0.045059714228784395, 0.9502093122757879, 0.03276583835433751, 0.9809865985032877, 0.03546487060514116, 0.18239076311215455, 0.4205120371752452, 0.34451588587851417, 0.015199230259346214, 0.02330070586165148, 0.9553289403277107, 0.022032321715268744, 0.15422625200688123, 0.8151959034649436, 0.22282559788802878, 0.7639734784732415, 0.052841414269113485, 0.052841414269113485, 0.27175584481258364, 0.6114506508283132, 0.8983741089627969, 0.07486450908023308, 0.2218794545397751, 0.2153535882297817, 0.15988372459483793, 0.01305173261998677, 0.3882890454446064, 0.19243232880563885, 0.13745166343259918, 0.6666405676481061, 0.27707697965027944, 0.4958219635847106, 0.21509923420219063, 0.010937249196721557, 0.6849124155670556, 0.13045950772705822, 0.17938182312470505, 0.9747153465437534, 0.028045062070442987, 0.9535321103950616, 0.9159162950935626, 0.2636882567326926, 0.03013580076945058, 0.14314505365489025, 0.2034166551937914, 0.3540956590410443, 0.29806527578963143, 0.4967754596493857, 0.19871018385975428, 0.9730614541741506, 0.976846210094796, 0.24174573038717403, 0.30560309313095585, 0.30560309313095585, 0.013683720587953247, 0.13227596568354805, 0.7836299372662819, 0.139311988847339, 0.05224199581775213, 0.9256513114741087, 0.9410965765066306, 0.02688847361447516, 0.9578246004474827, 0.3740598033045066, 0.06801087332809211, 0.3211624573826572, 0.022670291109364037, 0.2115893836873977, 0.9741549473904445, 0.2891470555610984, 0.012946883084825299, 0.47903467413853607, 0.017262510779767065, 0.20715012935720478, 0.9860063417652587, 0.0795148253070329, 0.8746630783773618, 0.13728531506930838, 0.5834625890445606, 0.2059279726039626, 0.06864265753465419, 0.008580332191831774, 0.9469956892201592, 0.8190694719147273, 0.029784344433262812, 0.13402954994968266, 0.8991178365429477, 0.10577856900505267, 0.012609753805565671, 0.7313657207228089, 0.20175606088905074, 0.03782926141669701, 0.007414033808480258, 0.5338104342105785, 0.1927648790204867, 0.17052277759504592, 0.09638243951024335, 0.02900503229464772, 0.11602012917859088, 0.8411459365447839, 0.04802570167645256, 0.9365011826908248, 0.9185247370034235, 0.041427617692728874, 0.7456971184691197, 0.11599732953964084, 0.04971314123127465, 0.04971314123127465, 0.145378889829034, 0.03028726871438208, 0.5330559293731246, 0.27864287217231515, 0.01817236122862925, 0.702972098302267, 0.015621602184494824, 0.21870243058292752, 0.04686480655348447, 0.9434523369838729, 0.04101966682538578, 0.9768431741031639, 0.007590279912073779, 0.994326668481665, 0.9838088129603838, 0.05584493062141436, 0.10052087511854585, 0.022337972248565745, 0.8153359870726496, 0.11069865076087956, 0.04744227889751981, 0.18449775126813261, 0.031628185931679875, 0.6272923543116509, 0.918771678234257, 0.985531410150421, 0.9639411711420353, 0.04211997866399729, 0.4001397973079742, 0.5264997332999661, 0.023311842609143697, 0.9557855469748916, 0.7408452327477382, 0.016837391653357684, 0.16837391653357686, 0.06734956661343074, 0.32358901133774487, 0.00622286560264894, 0.23646889290065973, 0.01866859680794682, 0.41070912977483004, 0.9790896890107266, 0.08232777219122289, 0.07409499497210059, 0.19758665325893493, 0.024698331657366866, 0.6174582914341716, 0.8819263692501329, 0.1075519962500162, 0.04955522463670319, 0.20441530162640068, 0.22919291394475227, 0.012388806159175798, 0.5079410525262077, 0.9730763360115818, 0.9517097050073354, 0.9858883092379238, 0.15658009399017683, 0.05924652205033718, 0.18197146058317848, 0.008463788864333882, 0.5924652205033718, 0.35096891985746387, 0.006051188273404549, 0.04235831791383184, 0.5990676390670504, 0.19699973291830147, 0.16416644409858455, 0.6238324875746213, 0.03911460556009659, 0.32856268670481137, 0.32073976559279205, 0.3050939233687534, 0.9046428264865383, 0.14717370237100855, 0.14717370237100855, 0.13168173370037606, 0.023237953005948716, 0.549964887807453, 0.011780964110340731, 0.047123856441362924, 0.9424771288272585, 0.016719173731405006, 0.050157521194215016, 0.9195545552272754, 0.983189830625515, 0.9338892717019863, 0.04915206693168349, 0.08196570731822693, 0.08909316012850753, 0.3278628292729077, 0.49892169671964215, 0.03510906224012339, 0.7841023900294224, 0.058515103733538985, 0.11703020746707797, 0.24165871186106447, 0.6041467796526612, 0.06693917081082619, 0.9371483913515667, 0.009732843466913993, 0.7494289469523775, 0.22385539973902185, 0.019465686933827987, 0.020393116116824615, 0.05098279029206154, 0.7851349704977477, 0.030589674175236926, 0.1121621386425354, 0.07045682876017788, 0.30296436366876484, 0.6059287273375297, 0.02113704862805336, 0.016198968892362393, 0.2591835022777983, 0.696555662371583, 0.016198968892362393, 0.9725472889512972, 0.04146839886652821, 0.9537731739301487, 0.023190048030782104, 0.9507919692620663, 0.056562677261490744, 0.08998607746146255, 0.7713092353839647, 0.010284123138452863, 0.07455989275378325, 0.19644035035308857, 0.6449791503259741, 0.160426286121689, 0.985432718041682, 0.12050210568717737, 0.41712267353253707, 0.4217573699051208, 0.03244287460808622, 0.00926939274516749, 0.1751895576006491, 0.8133800888601567, 0.1932689605654475, 0.29990011122224614, 0.05331557532839931, 0.4531823902913942, 0.9439403116921999, 0.9868209839771623, 0.057927642431207474, 0.28963821215603736, 0.5985856384558106, 0.057927642431207474, 0.182594695150053, 0.06351119831306191, 0.2302280938848494, 0.5239673860827607, 0.8822560731592095, 0.0259487080340944, 0.0778461241022832, 0.9791220667782529, 0.9741526684057144, 0.9634725739339242, 0.989074385399901, 0.9528265117236382, 0.05505003614258295, 0.8074005300912166, 0.13762509035645737, 0.01130440250060021, 0.13565283000720252, 0.4936255758595425, 0.026376939168067156, 0.3278276725174061, 0.10970901136167108, 0.6682276146574512, 0.14960319731136965, 0.05984127892454786, 0.019947092974849288, 0.7625525700149545, 0.14919506804640414, 0.08288614891466897, 0.9352043405511178, 0.03817160573678032, 0.01908580286839016, 0.9179392097621812, 0.9791471645133363, 0.9256748213294925, 0.377283085633412, 0.11690461808359245, 0.14878769574275405, 0.09564923297748475, 0.2603784675498196, 0.8124890662796308, 0.15089082659478859, 0.034820959983412746, 0.061594272460057685, 0.7760878329967268, 0.08623198144408076, 0.024637708984023076, 0.04927541796804615, 0.9723968908369182, 0.038895875633476726, 0.6813047703714906, 0.030280212016510696, 0.15140106008255347, 0.015140106008255348, 0.10598074205778743, 0.9860618477954786, 0.8442638082787403, 0.05116750353204486, 0.02558375176602243, 0.0767512552980673, 0.021357500171738018, 0.9610875077282107, 0.021561717723572182, 0.19405545951214961, 0.4527960721950158, 0.32342576585358274, 0.04775774125325329, 0.9312759544384392, 0.023878870626626646, 0.8413699518855188, 0.15297635488827616, 0.3239285314125432, 0.6478570628250864, 0.9860075615450901, 0.016778246177388146, 0.10066947706432888, 0.8624018535177507, 0.013422596941910517, 0.010066947706432888, 0.9470315267248159, 0.02354576601492466, 0.7063729804477399, 0.08241018105223631, 0.1883661281193973, 0.02135357648387659, 0.5893587109549939, 0.38863509200655394, 0.018419902482898046, 0.8841553191791062, 0.09209951241449023, 0.07628658406242184, 0.20706358531228783, 0.6974773399992853, 0.010898083437488833, 0.024737563808353964, 0.3413783805552847, 0.5640164548304704, 0.0692651786633911, 0.9832503707506136, 0.8841658790425615, 0.11052073488032019, 0.04944613676342221, 0.939476598505022, 0.25970677133690695, 0.675237605475958, 0.9612679176444981, 0.042723018561977695, 0.9464887911259544, 0.9526529003928699, 0.02721865429693914, 0.011342752605708708, 0.2949115677484264, 0.3743108359883874, 0.2949115677484264, 0.022685505211417416, 0.9750809084793699, 0.976840398895339, 0.07644785055488128, 0.7166985989520119, 0.20067560770656334, 0.00955598131936016, 0.91164476809657, 0.07597039734138084, 0.043126404871509115, 0.043126404871509115, 0.23719522679330013, 0.539080060893864, 0.12937921461452734, 0.8971779567590094, 0.04600912598764151, 0.04600912598764151, 0.011502281496910377, 0.04944612830035649, 0.9394764377067732, 0.36400156830702646, 0.04254563785406803, 0.21272818927034012, 0.07563668951834315, 0.3025467580733726, 0.9118002475876282, 0.04559001237938141, 0.5259217089368752, 0.1102739067125706, 0.2205478134251412, 0.042413041043296386, 0.1102739067125706, 0.9486184299183288, 0.024963642892587602, 0.044575428375139566, 0.9583717100655007, 0.9741590756959428, 0.06429667747593425, 0.002521438332389578, 0.4815947214864094, 0.010085753329558312, 0.44251242733437096, 0.02658729251085038, 0.02658729251085038, 0.9305552378797634, 0.08676863807691232, 0.150398972666648, 0.6073804665383862, 0.15618354853844219, 0.8387046340123856, 0.13479181618056196, 0.029953736929013774, 0.45007892654989, 0.16366506419996, 0.261864102719936, 0.016366506419996, 0.114565544939972, 0.20609997705509375, 0.5358599403432438, 0.22258797521950127, 0.032975996328815003, 0.9591553245263708, 0.019340220358765065, 0.9670110179382533, 0.019539440262370568, 0.39078880524741133, 0.3614796448538555, 0.18562468249252037, 0.039078880524741136, 0.6389665077890991, 0.2513966588022685, 0.08379888626742284, 0.02094972156685571, 0.43425179239339473, 0.26174080637410096, 0.1784596407096143, 0.02974327345160238, 0.09517847504512762, 0.008075401576004762, 0.29071445673617147, 0.1292064252160762, 0.5006748977122952, 0.0646032126080381, 0.07162617253160455, 0.9311402429108593, 0.9858899031337276, 0.9768477215452334, 0.825208928764527, 0.1650417857529054, 0.9582901527795723, 0.150407085778951, 0.8272389717842306, 0.03760177144473775, 0.17354526776314316, 0.23139369035085752, 0.13980035458697643, 0.24585579599778612, 0.2121108828216194, 0.9688069165035872, 0.9634718147843111, 0.987739922495069, 0.974159402780916, 0.9730856837573965, 0.020258277817634614, 0.5449476732943711, 0.40719138413445577, 0.02430993338116154, 0.0020258277817634613, 0.46023853805278564, 0.3825359277321855, 0.12850816322253106, 0.02988561935407699, 0.2985972002214362, 0.7025816475798499, 0.22456631313932468, 0.039629349377527885, 0.26419566251685256, 0.4227130600269641, 0.052839132503370516, 0.2479220140364629, 0.6941816393020962, 0.10361062324280058, 0.870329235239525, 0.9155906582008513, 0.03703761507923385, 0.9259403769808464, 0.06942763081683236, 0.6109631511881247, 0.2568822340222797, 0.04165657849009941, 0.020828289245049706, 0.20515650877314182, 0.7522405321681866, 0.37449593869143033, 0.3517992151343739, 0.23831559734909202, 0.03404508533558458, 0.9416918597765395, 0.03553554187835998, 0.8635719018658131, 0.10159669433715449, 0.01693278238952575, 0.963315638804334, 0.9401648607986166, 0.146758314262745, 0.04193094693221285, 0.12579284079663855, 0.010482736733053213, 0.6708951509154056, 0.1581206596825119, 0.0527068865608373, 0.22588665668930274, 0.03764777611488379, 0.5270688656083731, 0.036049448080320186, 0.05046922731244826, 0.0576791169285123, 0.02162966884819211, 0.8291373058473642, 0.9517258864442061, 0.9688002292594615, 0.9887573654479932, 0.3781991752776046, 0.5943129897219501, 0.332099743685513, 0.47490263347028355, 0.16937086927961162, 0.01992598462113078, 0.22292960908506598, 0.5162580420917318, 0.14079764784319956, 0.06648777814817756, 0.05084359505448873, 0.022969225531212712, 0.8957997957172957, 0.045938451062425424, 0.022969225531212712, 0.9491411756060586, 0.060918971565837525, 0.12183794313167505, 0.8122529542111669, 0.01771002916066133, 0.9386315455150505, 0.01771002916066133, 0.10888282802069542, 0.7621797961448679, 0.006805176751293464, 0.12249318152328234, 0.01728349786341435, 0.051850493590243046, 0.9333088846243749, 0.24022024630858207, 0.4373240381515212, 0.04311645446564294, 0.049275947960734784, 0.22790125931839839, 0.27104302401460645, 0.10255681989741866, 0.21976461406589712, 0.04029017924541447, 0.36627435677649517, 0.9666110806438107, 0.24360344959163407, 0.10591454330071047, 0.5401641708336233, 0.11121027046574598, 0.9570291314565136, 0.1324057276961162, 0.1324057276961162, 0.7355873760895344, 0.09366222854621181, 0.08429600569159063, 0.7680302740789369, 0.028098668563863543, 0.028098668563863543, 0.974159335084902, 0.03639508390049875, 0.018197541950249373, 0.03639508390049875, 0.8916795555622193, 0.5725701122719182, 0.02290280449087673, 0.14886822919069875, 0.25193084939964405, 0.9688104492074915, 0.2503359005466261, 0.34661893921840536, 0.23878193590601257, 0.011553964640613512, 0.15405286187484682, 0.11726942414147382, 0.2501747715018108, 0.46125973495646366, 0.007817961609431587, 0.16026821299334754, 0.02409858971079399, 0.09639435884317596, 0.8675492295885836, 0.9713210155053539, 0.9740997821452442, 0.04939817702106702, 0.04939817702106702, 0.8891671863792062, 0.06418903495633789, 0.8665519719105614, 0.06418903495633789, 0.059128672601969794, 0.07391084075246225, 0.21434143818214052, 0.6504153986216678], \"Term\": [\"000\", \"000\", \"000\", \"000\", \"000\", \"1960\", \"1960\", \"1960\", \"63\", \"63\", \"academic\", \"academic\", \"accommodate\", \"accommodate\", \"act\", \"act\", \"act\", \"act\", \"activities\", \"activities\", \"activities\", \"administration\", \"administration\", \"administration\", \"alexander\", \"alexander\", \"amateur\", \"american\", \"american\", \"american\", \"american\", \"american\", \"area\", \"area\", \"area\", \"area\", \"area\", \"asked\", \"asked\", \"asked\", \"asked\", \"asked\", \"assessment\", \"assessment\", \"aug\", \"available\", \"available\", \"available\", \"available\", \"available\", \"away\", \"away\", \"away\", \"away\", \"baby\", \"baby\", \"ball\", \"ball\", \"baseball\", \"bat\", \"battery\", \"battery\", \"bed\", \"bed\", \"bed\", \"berlin\", \"best\", \"best\", \"best\", \"best\", \"best\", \"better\", \"better\", \"better\", \"better\", \"better\", \"blocks\", \"blocks\", \"blocks\", \"board\", \"board\", \"board\", \"board\", \"board\", \"boat\", \"boat\", \"boat\", \"boat\", \"boats\", \"boats\", \"boats\", \"bob\", \"bob\", \"bombs\", \"boy\", \"boy\", \"boy\", \"bridge\", \"bridge\", \"business\", \"business\", \"business\", \"business\", \"business\", \"came\", \"came\", \"came\", \"came\", \"castro\", \"catastrophe\", \"catastrophe\", \"cattle\", \"cattle\", \"cattle\", \"center\", \"center\", \"center\", \"center\", \"charlie\", \"charter\", \"chemical\", \"chemical\", \"chemical\", \"chest\", \"chest\", \"child\", \"child\", \"child\", \"child\", \"city\", \"city\", \"city\", \"city\", \"city\", \"claim\", \"claim\", \"claim\", \"claims\", \"claims\", \"claims\", \"claims\", \"class\", \"class\", \"class\", \"class\", \"class\", \"clay\", \"clay\", \"clay\", \"clay\", \"club\", \"club\", \"club\", \"club\", \"coach\", \"college\", \"college\", \"college\", \"college\", \"college\", \"come\", \"come\", \"come\", \"come\", \"come\", \"committee\", \"committee\", \"committee\", \"communism\", \"communist\", \"communist\", \"communist\", \"communists\", \"company\", \"company\", \"company\", \"company\", \"company\", \"comprehensive\", \"concrete\", \"concrete\", \"concrete\", \"congo\", \"conversion\", \"conversion\", \"conversion\", \"cooling\", \"cooling\", \"cooling\", \"corps\", \"corps\", \"corps\", \"couldn\", \"couldn\", \"couldn\", \"council\", \"council\", \"council\", \"council\", \"county\", \"county\", \"court\", \"court\", \"court\", \"court\", \"coverage\", \"coverage\", \"creative\", \"creative\", \"credit\", \"credit\", \"credit\", \"credit\", \"cuba\", \"curriculum\", \"cut\", \"cut\", \"cut\", \"cut\", \"dad\", \"daily\", \"daily\", \"daily\", \"day\", \"day\", \"day\", \"day\", \"day\", \"dear\", \"democratic\", \"democratic\", \"democrats\", \"department\", \"department\", \"department\", \"department\", \"depreciation\", \"designers\", \"development\", \"development\", \"development\", \"development\", \"didn\", \"didn\", \"didn\", \"didn\", \"don\", \"don\", \"don\", \"don\", \"don\", \"door\", \"door\", \"door\", \"door\", \"drill\", \"drill\", \"drill\", \"east\", \"east\", \"east\", \"east\", \"educated\", \"election\", \"election\", \"electricity\", \"electricity\", \"electricity\", \"employee\", \"engine\", \"engine\", \"engine\", \"engine\", \"engine\", \"engineers\", \"engineers\", \"engineers\", \"evaluation\", \"exceed\", \"exceed\", \"expenditures\", \"expenditures\", \"eyes\", \"eyes\", \"eyes\", \"eyes\", \"faculty\", \"faculty\", \"farm\", \"farm\", \"farm\", \"farm\", \"farmers\", \"farmers\", \"father\", \"father\", \"father\", \"favorite\", \"feed\", \"feed\", \"feed\", \"felt\", \"felt\", \"felt\", \"felt\", \"fig\", \"fig\", \"fiscal\", \"fiscal\", \"fishing\", \"fishing\", \"football\", \"football\", \"forests\", \"fountain\", \"frame\", \"frame\", \"frame\", \"gallery\", \"game\", \"game\", \"game\", \"game\", \"game\", \"games\", \"games\", \"gen\", \"general\", \"general\", \"general\", \"general\", \"general\", \"georgia\", \"georgia\", \"girl\", \"girl\", \"girl\", \"god\", \"god\", \"going\", \"going\", \"going\", \"going\", \"golf\", \"golf\", \"good\", \"good\", \"good\", \"good\", \"good\", \"got\", \"got\", \"got\", \"government\", \"government\", \"government\", \"government\", \"green\", \"green\", \"green\", \"hadn\", \"hair\", \"hair\", \"handsome\", \"head\", \"head\", \"head\", \"head\", \"head\", \"hearing\", \"hearing\", \"hearing\", \"heel\", \"hell\", \"high\", \"high\", \"high\", \"high\", \"high\", \"hit\", \"hit\", \"hit\", \"hits\", \"hole\", \"hole\", \"holes\", \"home\", \"home\", \"home\", \"home\", \"home\", \"homer\", \"house\", \"house\", \"house\", \"house\", \"house\", \"hughes\", \"import\", \"import\", \"important\", \"important\", \"important\", \"important\", \"important\", \"imports\", \"inch\", \"inch\", \"inch\", \"india\", \"india\", \"industrial\", \"industrial\", \"industrial\", \"industrial\", \"interest\", \"interest\", \"interest\", \"interest\", \"interest\", \"interference\", \"interference\", \"interference\", \"interior\", \"interior\", \"inventory\", \"island\", \"island\", \"island\", \"island\", \"island\", \"john\", \"john\", \"john\", \"john\", \"john\", \"junior\", \"junior\", \"junior\", \"junior\", \"jury\", \"jury\", \"katanga\", \"kennedy\", \"kennedy\", \"khrushchev\", \"knew\", \"knew\", \"knew\", \"knew\", \"know\", \"know\", \"know\", \"know\", \"know\", \"laboratories\", \"laos\", \"laughed\", \"laws\", \"laws\", \"laws\", \"leader\", \"leader\", \"league\", \"league\", \"league\", \"league\", \"left\", \"left\", \"left\", \"left\", \"left\", \"leg\", \"let\", \"let\", \"let\", \"let\", \"let\", \"library\", \"library\", \"life\", \"life\", \"life\", \"life\", \"life\", \"liked\", \"lips\", \"listening\", \"little\", \"little\", \"little\", \"little\", \"little\", \"ll\", \"ll\", \"ll\", \"ll\", \"loans\", \"loans\", \"loans\", \"local\", \"local\", \"local\", \"local\", \"locations\", \"look\", \"look\", \"look\", \"look\", \"look\", \"looked\", \"looked\", \"looked\", \"love\", \"love\", \"love\", \"loved\", \"maintain\", \"maintain\", \"man\", \"man\", \"man\", \"man\", \"management\", \"management\", \"management\", \"management\", \"manufactured\", \"manufactured\", \"mayor\", \"mayor\", \"medical\", \"medical\", \"medical\", \"medical\", \"meeting\", \"meeting\", \"meeting\", \"meeting\", \"meeting\", \"members\", \"members\", \"members\", \"members\", \"military\", \"military\", \"military\", \"military\", \"moscow\", \"mother\", \"mother\", \"motors\", \"motors\", \"mr\", \"mr\", \"mr\", \"mr\", \"mr\", \"mrs\", \"mrs\", \"mrs\", \"musical\", \"national\", \"national\", \"national\", \"national\", \"national\", \"nations\", \"nations\", \"night\", \"night\", \"night\", \"night\", \"nodded\", \"nuclear\", \"officer\", \"officer\", \"officer\", \"officer\", \"old\", \"old\", \"old\", \"old\", \"organizations\", \"organizations\", \"organizations\", \"paint\", \"paintings\", \"pale\", \"panels\", \"participation\", \"party\", \"party\", \"party\", \"people\", \"people\", \"people\", \"people\", \"people\", \"period\", \"period\", \"period\", \"period\", \"period\", \"piece\", \"piece\", \"piece\", \"pieces\", \"pieces\", \"pieces\", \"pitcher\", \"pitching\", \"pittsburgh\", \"place\", \"place\", \"place\", \"place\", \"place\", \"planning\", \"planning\", \"planning\", \"plant\", \"plant\", \"plant\", \"plant\", \"plant\", \"plastic\", \"plastic\", \"play\", \"play\", \"play\", \"play\", \"play\", \"player\", \"playing\", \"playing\", \"playing\", \"playing\", \"police\", \"police\", \"policy\", \"policy\", \"policy\", \"policy\", \"political\", \"political\", \"political\", \"pool\", \"pool\", \"pound\", \"pound\", \"premier\", \"president\", \"president\", \"president\", \"president\", \"president\", \"producers\", \"production\", \"production\", \"production\", \"production\", \"program\", \"program\", \"program\", \"projects\", \"projects\", \"projects\", \"property\", \"property\", \"property\", \"property\", \"public\", \"public\", \"public\", \"public\", \"publications\", \"published\", \"published\", \"puerto\", \"puerto\", \"ratio\", \"ratio\", \"rayburn\", \"rayburn\", \"recommendation\", \"recreation\", \"recreation\", \"report\", \"report\", \"report\", \"report\", \"report\", \"republican\", \"republicans\", \"research\", \"research\", \"research\", \"research\", \"resources\", \"resources\", \"respect\", \"respect\", \"respect\", \"respect\", \"respect\", \"rhode\", \"rhode\", \"rhode\", \"rhode\", \"rico\", \"rico\", \"right\", \"right\", \"right\", \"right\", \"right\", \"roy\", \"roy\", \"run\", \"run\", \"run\", \"run\", \"run\", \"runs\", \"runs\", \"russia\", \"russia\", \"ruth\", \"said\", \"said\", \"said\", \"said\", \"said\", \"sat\", \"sat\", \"sat\", \"school\", \"school\", \"school\", \"school\", \"season\", \"season\", \"season\", \"second\", \"second\", \"second\", \"second\", \"second\", \"secretary\", \"secretary\", \"secretary\", \"secretary\", \"sen\", \"senate\", \"senate\", \"service\", \"service\", \"service\", \"service\", \"service\", \"services\", \"services\", \"services\", \"services\", \"set\", \"set\", \"set\", \"set\", \"set\", \"shall\", \"shall\", \"shall\", \"shall\", \"shall\", \"shelter\", \"shelter\", \"shoes\", \"sick\", \"signs\", \"signs\", \"silent\", \"site\", \"site\", \"site\", \"small\", \"small\", \"small\", \"small\", \"small\", \"smile\", \"smiled\", \"soviet\", \"stadium\", \"stared\", \"state\", \"state\", \"state\", \"state\", \"state\", \"states\", \"states\", \"states\", \"states\", \"stations\", \"stations\", \"stock\", \"stock\", \"stock\", \"stock\", \"stock\", \"stockholders\", \"stockholders\", \"stood\", \"stood\", \"strange\", \"susan\", \"susan\", \"system\", \"system\", \"system\", \"system\", \"system\", \"tangible\", \"tangible\", \"tax\", \"tax\", \"tax\", \"tax\", \"team\", \"team\", \"technical\", \"technical\", \"technical\", \"textile\", \"thereof\", \"thing\", \"thing\", \"thing\", \"thing\", \"thing\", \"think\", \"think\", \"think\", \"think\", \"think\", \"thought\", \"thought\", \"thought\", \"thought\", \"thought\", \"till\", \"tongue\", \"troops\", \"trust\", \"trust\", \"united\", \"united\", \"united\", \"united\", \"use\", \"use\", \"use\", \"use\", \"use\", \"vehicles\", \"vehicles\", \"vehicles\", \"vehicles\", \"vernon\", \"voice\", \"voice\", \"voice\", \"vote\", \"vote\", \"vote\", \"war\", \"war\", \"war\", \"war\", \"wasn\", \"wasn\", \"wasn\", \"water\", \"water\", \"water\", \"water\", \"water\", \"way\", \"way\", \"way\", \"way\", \"way\", \"weapons\", \"week\", \"week\", \"week\", \"week\", \"welfare\", \"went\", \"went\", \"went\", \"west\", \"west\", \"west\", \"west\", \"west\", \"willie\", \"woman\", \"woman\", \"woman\", \"woman\", \"won\", \"won\", \"won\", \"won\", \"wondered\", \"work\", \"work\", \"work\", \"work\", \"work\", \"world\", \"world\", \"world\", \"world\", \"world\", \"wouldn\", \"wouldn\", \"wouldn\", \"yankees\", \"yards\", \"yes\", \"yes\", \"yes\", \"yesterday\", \"yesterday\", \"yesterday\", \"young\", \"young\", \"young\", \"young\"]}, \"R\": 30, \"lambda.step\": 0.01, \"plot.opts\": {\"xlab\": \"PC1\", \"ylab\": \"PC2\"}, \"topic.order\": [1, 2, 3, 4, 5]};\n",
       "\n",
       "function LDAvis_load_lib(url, callback){\n",
       "  var s = document.createElement('script');\n",
       "  s.src = url;\n",
       "  s.async = true;\n",
       "  s.onreadystatechange = s.onload = callback;\n",
       "  s.onerror = function(){console.warn(\"failed to load library \" + url);};\n",
       "  document.getElementsByTagName(\"head\")[0].appendChild(s);\n",
       "}\n",
       "\n",
       "if(typeof(LDAvis) !== \"undefined\"){\n",
       "   // already loaded: just create the visualization\n",
       "   !function(LDAvis){\n",
       "       new LDAvis(\"#\" + \"ldavis_el1966826593049402407578962186\", ldavis_el1966826593049402407578962186_data);\n",
       "   }(LDAvis);\n",
       "}else if(typeof define === \"function\" && define.amd){\n",
       "   // require.js is available: use it to load d3/LDAvis\n",
       "   require.config({paths: {d3: \"https://d3js.org/d3.v5\"}});\n",
       "   require([\"d3\"], function(d3){\n",
       "      window.d3 = d3;\n",
       "      LDAvis_load_lib(\"https://cdn.jsdelivr.net/gh/bmabey/pyLDAvis@3.4.0/pyLDAvis/js/ldavis.v3.0.0.js\", function(){\n",
       "        new LDAvis(\"#\" + \"ldavis_el1966826593049402407578962186\", ldavis_el1966826593049402407578962186_data);\n",
       "      });\n",
       "    });\n",
       "}else{\n",
       "    // require.js not available: dynamically load d3 & LDAvis\n",
       "    LDAvis_load_lib(\"https://d3js.org/d3.v5.js\", function(){\n",
       "         LDAvis_load_lib(\"https://cdn.jsdelivr.net/gh/bmabey/pyLDAvis@3.4.0/pyLDAvis/js/ldavis.v3.0.0.js\", function(){\n",
       "                 new LDAvis(\"#\" + \"ldavis_el1966826593049402407578962186\", ldavis_el1966826593049402407578962186_data);\n",
       "            })\n",
       "         });\n",
       "}\n",
       "</script>"
      ],
      "text/plain": [
       "<IPython.core.display.HTML object>"
      ]
     },
     "execution_count": 20,
     "metadata": {},
     "output_type": "execute_result"
    }
   ],
   "source": [
    "pyLDAvis.display(lda_display)"
   ]
  },
  {
   "cell_type": "markdown",
   "id": "a3d14c87",
   "metadata": {},
   "source": [
    "Q: What conclusions do you draw from the visualization above? Please address the principal component scatterplot and the salient terms graph.\n",
    "\n",
    "A: The principal component scatterplot provides a visual representation of each topic's distribution. From this, there is overlap between topics 2 and topic 3, as well as topic 2 and topic 4. The salient terms graph displays the frequency and terms for each of the topics. From this, the top five terms are `said`, `government`, `general`, `feed`, and `business`, which appear to relate to government or political-related corpus."
   ]
  }
 ],
 "metadata": {
  "kernelspec": {
   "display_name": "Python 3",
   "language": "python",
   "name": "python3"
  },
  "language_info": {
   "codemirror_mode": {
    "name": "ipython",
    "version": 3
   },
   "file_extension": ".py",
   "mimetype": "text/x-python",
   "name": "python",
   "nbconvert_exporter": "python",
   "pygments_lexer": "ipython3",
   "version": "3.10.11"
  },
  "vscode": {
   "interpreter": {
    "hash": "c68636a1e49bf3485adde1c0d609ef5e395c0403b8d075633af773dedef405cd"
   }
  }
 },
 "nbformat": 4,
 "nbformat_minor": 5
}
